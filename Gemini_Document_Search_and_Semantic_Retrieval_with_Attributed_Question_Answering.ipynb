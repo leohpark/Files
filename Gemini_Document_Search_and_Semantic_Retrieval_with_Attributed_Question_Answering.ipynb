{
  "nbformat": 4,
  "nbformat_minor": 0,
  "metadata": {
    "colab": {
      "provenance": [],
      "authorship_tag": "ABX9TyNGYnKtlgRvPeYArnyz7l7u",
      "include_colab_link": true
    },
    "kernelspec": {
      "name": "python3",
      "display_name": "Python 3"
    },
    "language_info": {
      "name": "python"
    }
  },
  "cells": [
    {
      "cell_type": "markdown",
      "metadata": {
        "id": "view-in-github",
        "colab_type": "text"
      },
      "source": [
        "<a href=\"https://colab.research.google.com/github/leohpark/Files/blob/main/Gemini_Document_Search_and_Semantic_Retrieval_with_Attributed_Question_Answering.ipynb\" target=\"_parent\"><img src=\"https://colab.research.google.com/assets/colab-badge.svg\" alt=\"Open In Colab\"/></a>"
      ]
    },
    {
      "cell_type": "code",
      "execution_count": null,
      "metadata": {
        "id": "tuOe1ymfHZPu"
      },
      "outputs": [],
      "source": [
        "#@title Licensed under the Apache License, Version 2.0 (the \"License\");\n",
        "# you may not use this file except in compliance with the License.\n",
        "# You may obtain a copy of the License at\n",
        "#\n",
        "# https://www.apache.org/licenses/LICENSE-2.0\n",
        "#\n",
        "# Unless required by applicable law or agreed to in writing, software\n",
        "# distributed under the License is distributed on an \"AS IS\" BASIS,\n",
        "# WITHOUT WARRANTIES OR CONDITIONS OF ANY KIND, either express or implied.\n",
        "# See the License for the specific language governing permissions and\n",
        "# limitations under the License."
      ]
    },
    {
      "cell_type": "markdown",
      "metadata": {
        "id": "LmfLXp5_bt-a"
      },
      "source": [
        "# Document search with embeddings\n",
        "(Google's original notebook that this is based on)"
      ]
    },
    {
      "cell_type": "markdown",
      "metadata": {
        "id": "kIkJ7zgADMlP"
      },
      "source": [
        "<table class=\"tfo-notebook-buttons\" align=\"left\">\n",
        "      <td>\n",
        "    <a target=\"_blank\" href=\"https://ai.google.dev/examples/doc_search_emb\"><img src=\"https://ai.google.dev/static/site-assets/images/docs/notebook-site-button.png\" height=\"32\" width=\"32\" />View on Generative AI</a>\n",
        "  </td>\n",
        "  <td>\n",
        "    <a target=\"_blank\" href=\"https://colab.research.google.com/github/google/generative-ai-docs/blob/main/site/en/examples/doc_search_emb.ipynb\"><img src=\"https://www.tensorflow.org/images/colab_logo_32px.png\" />Run in Google Colab</a>\n",
        "  </td>\n",
        "  <td>\n",
        "    <a target=\"_blank\" href=\"https://github.com/google/generative-ai-docs/blob/main/site/en/examples/doc_search_emb.ipynb\"><img src=\"https://www.tensorflow.org/images/GitHub-Mark-32px.png\" />View source on GitHub</a>\n",
        "  </td>\n",
        "</table>"
      ]
    },
    {
      "cell_type": "markdown",
      "metadata": {
        "id": "bbPzgYbrwbK2"
      },
      "source": [
        "## Overview\n",
        "\n",
        "This example demonstrates how to use the Gemini API to create embeddings so that you can perform document search. You will use the Python client library to build a word embedding that allows you to compare search strings, or questions, to document contents.\n",
        "\n",
        "In this tutorial, you'll use embeddings to perform document search over a set of documents to ask questions related to the Google Car.\n",
        "\n",
        "## Prerequisites\n",
        "\n",
        "You can run this quickstart in Google Colab.\n",
        "\n",
        "To complete this quickstart on your own development environment, ensure that your envirmonement meets the following requirements:\n",
        "\n",
        "-  Python 3.9+\n",
        "-  An installation of `jupyter` to run the notebook.\n",
        "\n",
        "## Setup\n",
        "\n",
        "First, download and install the Gemini API Python library."
      ]
    },
    {
      "cell_type": "markdown",
      "source": [
        "## Install Packages and imports\n",
        "\n",
        "Leo: I've added langchain, tiktoken, and some pdf processing dependencies so that this notebook can process any PDF, from a file or URL."
      ],
      "metadata": {
        "id": "69qwbO_vm3xk"
      }
    },
    {
      "cell_type": "code",
      "execution_count": null,
      "metadata": {
        "id": "YD6urJjWGVDf"
      },
      "outputs": [],
      "source": [
        "!pip install -U -q google.generativeai"
      ]
    },
    {
      "cell_type": "code",
      "execution_count": null,
      "metadata": {
        "id": "Zey3UiYGDDzU"
      },
      "outputs": [],
      "source": [
        "import textwrap\n",
        "import numpy as np\n",
        "import pandas as pd\n",
        "\n",
        "import google.generativeai as genai\n",
        "import google.ai.generativelanguage as glm\n",
        "\n",
        "# Used to securely store your API key\n",
        "from google.colab import userdata\n",
        "\n",
        "from IPython.display import Markdown\n",
        "import os"
      ]
    },
    {
      "cell_type": "code",
      "source": [
        "!pip install -U -q langchain tiktoken unstructured==0.11.2 pdf2image pdfminer.six pikepdf pypdf unstructured_pytesseract unstructured_inference"
      ],
      "metadata": {
        "id": "M8FvIxVBowLm",
        "colab": {
          "base_uri": "https://localhost:8080/"
        },
        "outputId": "0786e72d-b3a9-410b-f475-3f466f5caed0"
      },
      "execution_count": null,
      "outputs": [
        {
          "output_type": "stream",
          "name": "stdout",
          "text": [
            "\u001b[?25l     \u001b[90m━━━━━━━━━━━━━━━━━━━━━━━━━━━━━━━━━━━━━━━━\u001b[0m \u001b[32m0.0/1.7 MB\u001b[0m \u001b[31m?\u001b[0m eta \u001b[36m-:--:--\u001b[0m\r\u001b[2K     \u001b[91m━\u001b[0m\u001b[90m╺\u001b[0m\u001b[90m━━━━━━━━━━━━━━━━━━━━━━━━━━━━━━━━━━━━━━\u001b[0m \u001b[32m0.1/1.7 MB\u001b[0m \u001b[31m1.8 MB/s\u001b[0m eta \u001b[36m0:00:01\u001b[0m\r\u001b[2K     \u001b[91m━━━━━━━━━━━━━━━━\u001b[0m\u001b[90m╺\u001b[0m\u001b[90m━━━━━━━━━━━━━━━━━━━━━━━\u001b[0m \u001b[32m0.7/1.7 MB\u001b[0m \u001b[31m10.0 MB/s\u001b[0m eta \u001b[36m0:00:01\u001b[0m\r\u001b[2K     \u001b[90m━━━━━━━━━━━━━━━━━━━━━━━━━━━━━━━━━━━━━━━━\u001b[0m \u001b[32m1.7/1.7 MB\u001b[0m \u001b[31m16.3 MB/s\u001b[0m eta \u001b[36m0:00:00\u001b[0m\n",
            "\u001b[?25h"
          ]
        }
      ]
    },
    {
      "cell_type": "code",
      "source": [
        "from langchain.document_loaders import UnstructuredPDFLoader, OnlinePDFLoader\n",
        "from langchain.text_splitter import RecursiveCharacterTextSplitter\n",
        "import tiktoken\n",
        "import pdfminer\n",
        "import pikepdf\n",
        "import pypdf\n",
        "import unstructured_pytesseract\n",
        "import unstructured_inference\n",
        "from unstructured.partition.pdf import partition_pdf"
      ],
      "metadata": {
        "id": "cUR7PDUPo3ca"
      },
      "execution_count": null,
      "outputs": []
    },
    {
      "cell_type": "markdown",
      "source": [
        "Over the weekend while writing this, I encountered a problem where the package manager was installing a version of Unstructured 0.11.4 that did not contain the `unstructured.partitions.pdf.py` file. I later verified that the version of unstructured available from PyPl is missing this particular file from the Dec 14 release. As a result, installing from source is necessary to get the full package with PDF support. I'm sure this will get fixed soon. Alternately, you can downgrade to the previous release version of unstructured, provided you know that that is 0.11.2. My packages above reflect this downgrade. The latest unstructured can be installed from git using the code below."
      ],
      "metadata": {
        "id": "mQONwmOTFPCr"
      }
    },
    {
      "cell_type": "code",
      "source": [
        "pip install git+https://github.com/Unstructured-IO/unstructured.git"
      ],
      "metadata": {
        "id": "zjFhxByv_lEO"
      },
      "execution_count": null,
      "outputs": []
    },
    {
      "cell_type": "markdown",
      "metadata": {
        "id": "DJriBaWmkL6Z"
      },
      "source": [
        "## Get your Google AI Studio API Key\n",
        "\n",
        "Before you can use the Gemini API, you must first obtain an API key. If you don't already have one, create a key with one click in Google AI Studio.\n",
        "\n",
        "<a class=\"button button-primary\" href=\"https://makersuite.google.com/app/apikey\" target=\"_blank\" rel=\"noopener noreferrer\">Get an API key</a>\n",
        "\n",
        "In Colab, add the key to the secrets manager under the \"🔑\" in the left panel. Give it the name `API_KEY`.\n",
        "\n",
        "Once you have the API key, pass it to the SDK. You can do this in two ways:\n",
        "\n",
        "* Put the key in the `GOOGLE_API_KEY` environment variable (the SDK will automatically pick it up from there).\n",
        "* Pass the key to `genai.configure(api_key=...)`"
      ]
    },
    {
      "cell_type": "code",
      "execution_count": null,
      "metadata": {
        "id": "JIm3gEGYhTX1"
      },
      "outputs": [],
      "source": [
        "from google.colab import userdata\n",
        "API_KEY = userdata.get('API_KEY')\n",
        "\n",
        "genai.configure(api_key=API_KEY)"
      ]
    },
    {
      "cell_type": "markdown",
      "metadata": {
        "id": "gGpQ8Eg0kNXW"
      },
      "source": [
        "## Embedding generation\n",
        "\n",
        "In this section, you will see how to generate embeddings for a piece of text using the embeddings from the Gemini API.\n"
      ]
    },
    {
      "cell_type": "markdown",
      "metadata": {
        "id": "Y9imdrPj24P6"
      },
      "source": [
        "### API changes to Embeddings with model embedding-001\n",
        "\n",
        "For the new embeddings model, embedding-001, there is a new task type parameter and the optional title (only valid with task_type=`RETRIEVAL_DOCUMENT`).\n",
        "\n",
        "These new parameters apply only to the newest embeddings models.The task types are:\n",
        "\n",
        "Task Type | Description\n",
        "---       | ---\n",
        "RETRIEVAL_QUERY\t| Specifies the given text is a query in a search/retrieval setting.\n",
        "RETRIEVAL_DOCUMENT | Specifies the given text is a document in a search/retrieval setting.\n",
        "SEMANTIC_SIMILARITY\t| Specifies the given text will be used for Semantic Textual Similarity (STS).\n",
        "CLASSIFICATION\t| Specifies that the embeddings will be used for classification.\n",
        "CLUSTERING\t| Specifies that the embeddings will be used for clustering."
      ]
    },
    {
      "cell_type": "markdown",
      "source": [
        "This is just a sample embedding created from a portion of the recent Warhol SCOTUS decision. Run this cell to make sure that your API key is working and correctly being passed from the notebook userdata. Note the `title` parameter. This is a new optional parameter that is only used with the `task_type` is `retrieval_document`. It's not yet clear whether this is incorporated into the embedding, or how. Since we are only retrieving from a knowledge base containing a single document, it likely doesn't matter much here."
      ],
      "metadata": {
        "id": "pvTX5liWFLUJ"
      }
    },
    {
      "cell_type": "code",
      "source": [
        "title = \"ANDY WARHOL FOUNDATION FOR VISUAL ARTS, INC. v. GOLDSMITH\"\n",
        "sample_text = (\"\"\"In 2016, petitioner Andy Warhol Foundation for the Visual Arts, Inc.\n",
        "(AWF) licensed to Condé Nast for $10,000 an image of “Orange\n",
        "Prince”—an orange silkscreen portrait of the musician Prince created\n",
        "by pop artist Andy Warhol—to appear on the cover of a magazine com-\n",
        "memorating Prince. Orange Prince is one of 16 works now known as\n",
        "the Prince Series that Warhol derived from a copyrighted photograph\n",
        "taken in 1981 by respondent Lynn Goldsmith, a professional photog-\n",
        "rapher.\"\"\")\n",
        "\n",
        "model = 'models/embedding-001'\n",
        "embedding = genai.embed_content(model=model,\n",
        "                                content=sample_text,\n",
        "                                task_type=\"retrieval_document\",\n",
        "                                title=title)\n",
        "\n",
        "print(embedding)"
      ],
      "metadata": {
        "colab": {
          "base_uri": "https://localhost:8080/",
          "height": 55
        },
        "id": "o0aQsBgpxv86",
        "outputId": "c4eee106-c158-4aa1-9b57-a4602c6fe547"
      },
      "execution_count": null,
      "outputs": [
        {
          "output_type": "stream",
          "name": "stdout",
          "text": [
            "{'embedding': [-0.004976866, -0.04624615, -0.047661625, -0.04056859, 0.10324767, -0.020868372, 0.023740215, 0.018633293, 0.06901656, 0.0022520986, 0.047237497, 0.05694859, -0.00045273575, -0.0042082793, 0.0348532, -0.06980623, 0.027102608, 0.045155425, -0.012675372, -0.09266169, -0.01417843, 0.03684274, 0.02121998, -0.019039992, -0.028201852, -0.014396963, 0.026175383, -0.08828838, -0.011369659, 0.048632525, -0.042363264, 0.02496338, -0.029759683, 0.061684623, 0.02667723, -0.06739606, -0.017340023, 0.037661646, -0.018567342, 0.020785995, -0.01977513, -0.01946769, -0.013868994, -0.052813265, 0.029303534, 0.016044145, -0.008170931, 0.0526105, -0.010348585, -0.044506326, 0.0566009, -0.05120147, 0.04071312, -0.05216053, -0.01364342, -0.01434613, 0.037146643, -0.040675074, -0.06251755, 0.0070602167, -0.028874312, 0.040811654, -0.024771893, -0.009799687, -0.01386678, -0.029561162, -0.023884322, 0.036670666, 0.003180297, 0.008733685, -0.04203412, -0.030888088, 0.05821382, -0.044809062, -0.007836046, -0.057979353, -0.053682014, 0.041715946, 0.03343989, 0.017519182, 0.010096066, -0.058572616, -0.041040976, -0.00986612, -0.047550675, 0.0295866, -0.0059901397, 0.024811458, 0.048734058, 0.010245747, -0.024484674, 0.023097638, 0.053525995, -0.054138836, 0.00745888, 0.027186904, -0.015356665, -0.06565144, -0.00057914545, -0.024147315, -0.0043678368, 0.011246604, 0.054410085, -0.040422104, -0.01899705, -0.02231439, 0.018256595, -0.02977875, 0.002376362, 0.03554239, -0.07735546, -0.016310833, -0.05506787, -0.0012349872, 0.039004788, 0.0025861477, -0.026286451, 0.091595605, 0.061924864, 0.025823567, 0.0074521434, -0.0076505993, 0.0059091076, -0.016138459, 0.022550078, 0.0041678357, 0.03828429, -0.01965702, 0.040102378, 0.05084113, 0.023000767, -0.09892836, 0.0126591185, -0.0015476356, 0.02237751, 0.07717141, 0.054221172, 0.027722787, 0.049150895, 0.017049037, 0.0028236283, 0.011377431, 0.0010187365, -0.032277815, 0.012968497, 0.025383098, -0.021789124, 0.010297913, 0.015158086, -0.007441771, 0.0010640839, 0.011745505, -0.007570229, 0.07980004, 0.06921349, -0.0046224375, 0.021889577, -0.011153, -0.043268967, 0.058961395, 0.010385791, 0.019070115, 0.019794641, 0.0026808612, 0.01005502, 0.06233039, 0.014149492, -0.042103086, 0.00673105, 0.020235332, -0.012002118, 0.02104095, -0.03021492, -0.066290185, -0.053596694, -0.061571673, -0.0428266, 0.044098012, 0.013838689, -0.0162999, -0.0023573888, -0.015945854, -0.03570554, 0.03577271, 0.06472448, 0.00045588033, 0.03434533, -0.0030392047, 0.005286101, 0.034734067, -0.0037725698, -0.009746132, 0.0016061858, -0.013558318, -0.019982442, 0.0878603, -0.012107704, -0.032460976, -0.025595047, -0.026354378, -0.004993418, 0.09033975, -0.021955723, 0.018615156, 0.02226148, -0.014510714, 0.048399623, -0.0034854033, 0.015284697, 0.03211218, -0.05443323, 0.017524658, -0.044108607, -0.0018872899, 0.02750897, -0.0060320734, 0.03624143, 0.0026784071, -0.052043315, -0.0079826815, -0.0048898445, 0.019683123, -0.074540354, 0.031093197, -0.0060632653, -0.03425535, 0.00014809509, 0.015067251, 0.017436339, -0.07110031, 0.048118122, 0.053694148, 0.039045375, -0.027930705, 0.040523045, -0.026900467, -0.024901109, -0.021535438, 0.010725484, 0.032944117, -0.043211978, 0.094861485, -0.01603096, 0.009223566, -0.03892301, -0.059932195, -0.0048685567, 0.003982606, -0.05548368, 0.062813684, 0.008524085, -0.03230288, -0.0223381, 0.0044777314, -0.020000486, 0.047846723, -0.08918381, -0.015689634, 0.002842541, -0.017398153, 0.008727959, -0.027312998, 0.027783109, 0.0066102506, -0.09342119, 0.05180648, 0.0011522179, -0.018674536, -0.05168957, 0.026749894, 0.018523766, -0.013328173, 0.05730998, 0.00096686743, -0.02785839, 0.030657018, 0.0062646843, 0.02839573, 0.0064440137, -0.08697586, 0.05935754, 0.016646672, 0.051486768, -0.043499928, -0.01749423, -0.016719338, -0.011477549, 0.009062312, -0.002276839, 0.017756555, -0.05692082, 0.012415168, -0.0039454675, -0.023019327, -0.056993056, -0.042334437, -0.010526928, 0.06435221, -0.0016138625, -0.04977949, -0.019988632, -0.071789265, 0.00982892, -0.077348515, -0.024718434, -0.018175531, -0.049225096, -0.019697005, 0.029487386, 0.0009586304, -0.008127651, 0.0227264, -0.024248034, -0.052564133, 0.038140863, 0.068396464, -0.016828915, 0.013358836, -0.036399994, 0.022250148, -0.012388232, -0.0026018661, 0.039909326, 0.001821495, 0.045406174, -0.0063829343, -0.056346122, 0.04624685, -0.00071014895, -0.00042590217, -0.017090486, -0.028406484, -0.010296662, -0.01913015, -0.016079731, 0.036111984, -0.030772744, -0.02043927, -0.05280836, -0.0068901833, 0.024937449, -0.058324646, -0.036902282, -0.011431598, 0.0387638, 0.000426429, 0.010406172, -0.009825656, 0.046508517, 0.0054223957, 0.0047383625, 0.051048208, 0.02700438, 0.015471608, -0.011638636, 0.0069349613, 0.10464443, -0.02687938, 0.025409823, -0.06019871, 0.01070245, 0.06910251, 0.07037577, -0.028926685, 0.012743946, 0.054410513, 0.02850325, 0.01769544, -0.0022389584, -0.002860654, -0.0023848515, 0.033781834, -0.012436793, -0.052994367, 0.016362544, -0.031100288, -0.06686961, -0.016831545, 0.048513778, 0.04289779, 0.005380668, -0.03689105, 0.08826512, 0.025190191, 0.017173167, 0.010546654, 0.0020889016, -0.0006365901, -0.008119783, 0.008659141, 0.0584968, 0.025060097, 0.02078225, 0.038250368, 0.0037360175, -0.036128867, -0.014854318, -0.04285174, 0.007150888, 0.03437074, -0.024843767, 0.019305116, 0.0042649964, 0.022083312, -0.03656576, -0.02002597, 0.0049792537, -0.00765619, -0.02328874, 0.016979784, 0.0642907, 0.03290058, 0.06063606, -0.08694921, -0.026118726, -0.019665148, 0.07599059, 0.0019414877, -0.02669953, 0.03257894, 0.01527187, -0.06738513, -0.04801184, -0.035515655, -0.017880531, -0.0372949, 0.006197591, -0.0042310813, -0.020073345, 0.007671911, 0.026208298, 0.030132346, 0.045866527, 0.038758334, -0.010347052, -0.026372526, -0.007965523, 0.050924808, -0.04237642, -0.013719418, 0.03323391, -0.011611348, 0.018299129, 0.0047581205, -0.066993386, -0.024669617, -0.06290903, 0.016753234, 5.0027586e-05, -0.061581593, 0.038253188, -0.038939033, 0.009455455, -0.029965935, -0.025584431, -0.046781685, -0.0047209626, 0.099781044, 0.0020814072, -0.021897167, -0.014015125, -0.028504018, -0.055796627, -0.04783317, 0.024662666, -0.011065446, -0.03201032, -0.004435861, 0.03368821, 0.03693288, 0.017338622, -0.0046943575, -0.05529277, -0.057380673, -0.0039637215, -0.00642821, -0.022726722, -0.019321265, -0.012506433, -0.05117882, 0.008267896, 0.031969182, 0.08390803, 0.02609052, 0.016715504, 0.013288902, -0.0056785005, -0.009121323, -0.0050255856, 0.02169455, 0.03196497, -0.008054965, -0.041047793, -0.016133664, -0.029178772, 0.029209025, -0.007524306, 0.056839604, 0.06070915, 0.0051792627, -0.029503759, 0.026416129, -0.019293262, 0.020275682, 0.029819764, -0.044806425, 0.02598535, 0.018320289, -0.0019629062, -0.0016480407, -0.031511273, 0.01846828, -0.0064892666, -0.0037554055, 0.03340517, -0.035535887, -0.008508412, 0.0112487115, -0.0058706743, -0.021407945, 0.04292082, 0.011258899, -0.08397664, -0.029328726, 0.030001422, -0.015329121, 0.020574497, 0.051101882, 0.011119426, -0.011534415, -0.038380947, 0.07751051, -0.058573265, -0.03815293, 0.018522678, -0.029504836, -0.020345341, -0.0030705405, 0.0064464156, 0.045636285, 0.008559337, -0.009323995, 0.05708601, -0.004622974, 0.0063397535, -0.012260528, 0.012665184, -0.07564048, -0.0010283159, -0.009371249, 0.054506745, -0.033287022, 0.02634211, -0.015208158, 0.018611675, 0.0046161665, 0.020904956, -0.0014151203, 0.010666072, 0.009324664, -0.030204793, 0.035377886, -0.008936418, -0.002992741, 0.13570507, 0.0190132, -0.037908074, -0.0074627264, 0.0022879948, -0.0058692647, 0.006830382, 0.011454213, 0.026636362, -0.01842619, -0.006431238, -0.0071042483, -0.025320563, -0.0035101161, -0.024867032, -0.030192496, -0.0043509747, 0.028655909, -0.0067975367, 0.06790402, -0.055300362, 0.051891174, 0.055791356, 0.01108429, 0.022244502, -0.015873251, -0.06600406, 0.018006388, -0.048122168, -0.007528033, -0.024238855, -0.012563854, 0.012191923, 0.00019368996, -0.030983496, -0.028985467, -0.017002324, -0.073724516, 0.04652599, -0.05314217, 0.061769247, -0.023091258, 0.03668825, -0.051470954, -0.009936198, -0.014995599, -0.023611967, -0.04588737, 0.020085214, -0.031299524, -0.047516473, -0.01915155, 0.052065786, 0.032320358, -0.04413868, -0.051878702, 0.003780587, -0.039416604, -0.003264194, -0.02274741, 0.034388967, -0.03045532, -0.043385357, -0.017972926, 0.06774251, 0.035700317, 0.043657545, 0.04813205, 0.013287287, 0.00573723, -0.03099538, -0.03649402, 0.00962354, -0.024330162, -0.03530285, 0.010935875, -0.08632706, -0.0027170223, 0.036657847, -0.008484242, -0.04692315, 0.045856282, -0.0059953732, -0.07772597, -0.019331804, 0.05665354, -0.05162865, 0.0037664515, 0.024579085, 0.0031247856, -0.015645359, -0.061431058, -0.03662527, -0.01743288, -0.0024264883, -2.1054851e-05, -0.011493636, 0.018520636, -0.011062931, 0.011163688, -0.001399845, -0.0052850186, -0.07553557, -0.074912764, 0.018374698, 0.0006576773, -0.09801301, 0.04480383, 0.05768064, -0.0462757, 0.028673628, 0.00021379911, -0.02371518, 0.019426644, -0.039137512, 0.01954581, -0.011673203, -0.023930015, 0.006704192, 0.021393925, 0.035598103, 0.0070463372, 0.026794046, 0.015371065, -0.0539309, -0.0070718178, 0.021605283, -0.02545024, 0.018716574, -0.012023479, -0.0034939465, -0.03127053, -0.009451723, 0.0051453314, -0.0032126089, 0.07967532, 0.015575548, -0.021494783, -0.038867254, 0.045997743, -0.035418816, 0.020550694, 0.00067626976, -0.029028593, 0.031141229, 0.06178766, -0.013372712, 0.0033935523, -0.012997967, 0.041284867, -0.036677353, 0.0032814778, -0.034898203, -0.043582983, -0.01787388, 0.05014199, 0.040672254, -0.024764268, 0.0011869374, -0.03481051, -0.012193091, 0.064988196, 0.00083080254, 0.034979027, -0.03806379, 0.06518041, 0.05123647, -0.04649555, -0.032182634, -0.021728221, -0.010576436, 0.069672346, -0.0011587434, 0.014949285, -0.014542972, -0.07958443, -0.07930639, 0.059933573, 0.007296851, 0.014224586, 0.035097294, -0.02258584, -0.00768257, -0.019851163, 0.03540128, -0.05277329, -0.024353035, 0.0026542991, 0.019587073, 0.015392462, 0.055494, -0.049620625, 0.028806835, -0.031015808, -0.018006735, 0.0048832977, 0.0017269496, 0.055692136, -0.00065769756, -0.018113874, 0.016523749, -0.0070332247, -0.06178115, 0.014642825]}\n"
          ]
        }
      ]
    },
    {
      "cell_type": "markdown",
      "source": [
        "## OAuth Shenanigans\n",
        "\n",
        "In order to send a call to the GenerativeServicesClient for a semantic retrieval call, you need an OAuth token set up. I don't really know what this means, but I used my Google Cloud Platform account to create one using the instructions in this Colab notebook. https://colab.research.google.com/github/google/generative-ai-docs/blob/main/site/en/docs/semantic_retriever.ipynb#scrollTo=P719DMtK8t-p\n",
        "\n",
        "I'm not super familiar with this, but I used GCP to create the OAuth Service Account, then from that Service Account, generate a Key, which is downloaded as a JSON file, then uploaded to the Colab notebook and used authenticate the Semantic Retriever request.\n",
        "\n",
        "We will require this OAuth setup to use the semantic retrieval and complete the AQA \"Attributed Question Answering\" API call. If you don't want to mess with that model, you can skip these steps."
      ],
      "metadata": {
        "id": "YVmLMQEX2FgO"
      }
    },
    {
      "cell_type": "code",
      "source": [
        "!pip install -U google-auth-oauthlib"
      ],
      "metadata": {
        "id": "G4saJW7C2Hlf"
      },
      "execution_count": null,
      "outputs": []
    },
    {
      "cell_type": "code",
      "source": [
        "# Rename the uploaded file to `service_account_secret.json` OR\n",
        "# Change the variable `service_account_file_name` in the code below.\n",
        "service_account_file_name = '/content/gen-lang-client-0086316029-a94fc89b076e.json'\n",
        "\n",
        "from google.oauth2 import service_account\n",
        "\n",
        "credentials = service_account.Credentials.from_service_account_file(service_account_file_name)\n",
        "\n",
        "scoped_credentials = credentials.with_scopes(\n",
        "    ['https://www.googleapis.com/auth/cloud-platform', 'https://www.googleapis.com/auth/generative-language.retriever'])"
      ],
      "metadata": {
        "id": "VxTNhuJ82UgO"
      },
      "execution_count": null,
      "outputs": []
    },
    {
      "cell_type": "code",
      "source": [
        "generative_service_client = glm.GenerativeServiceClient(credentials=scoped_credentials)\n",
        "retriever_service_client = glm.RetrieverServiceClient(credentials=scoped_credentials)\n",
        "permission_service_client = glm.PermissionServiceClient(credentials=scoped_credentials)"
      ],
      "metadata": {
        "id": "ygzm5V5H2hKP"
      },
      "execution_count": null,
      "outputs": []
    },
    {
      "cell_type": "markdown",
      "source": [
        "## Helper functions for processing PDFs\n",
        "The following functions are used to load and partition PDFs. There's separate loaders depending on whether you are using a local file, or a URL to a PDF online."
      ],
      "metadata": {
        "id": "BE-_0cVvGrcH"
      }
    },
    {
      "cell_type": "code",
      "source": [
        "#utility functions. yes, this is OpenAI's tokenizer. No, Google doesn't seem to provide one.\n",
        "def tiktoken_len(text, base='cl100k_base'):\n",
        "  tokenizer = tiktoken.get_encoding(base)\n",
        "  tokens = tokenizer.encode(\n",
        "      text,\n",
        "      disallowed_special=()\n",
        "  )\n",
        "  return len(tokens)\n",
        "\n",
        "def doc_loader(file_path):\n",
        "    loader = UnstructuredPDFLoader(file_path)\n",
        "    loader_doc = loader.load()\n",
        "    doc_content = loader_doc[0].page_content[:]\n",
        "    doc_tokens = tiktoken_len(doc_content)\n",
        "    doc_name = doc_name = file_path.split('/')[-1]  # Get the name of the document\n",
        "\n",
        "    return loader_doc, doc_content, doc_tokens, doc_name\n",
        "\n",
        "def online_pdf_loader(url):\n",
        "    loader = OnlinePDFLoader(url)\n",
        "    loader_doc = loader.load()\n",
        "    doc_content = loader_doc[0].page_content[:]\n",
        "    doc_tokens = tiktoken_len(doc_content)\n",
        "    doc_name = url.split('/')[-1]\n",
        "    return loader_doc, doc_content, doc_tokens, doc_name\n",
        "\n",
        "\n",
        "def text_splitter(doc, max_tokens=600, overlap_tokens=50):\n",
        "  text_splitter = RecursiveCharacterTextSplitter(\n",
        "      chunk_size = int(max_tokens), #chunk_s, # number of units per chunk\n",
        "      chunk_overlap = int(overlap_tokens), # number of units of overlap\n",
        "      length_function = tiktoken_len, #use tokens as chunking unit instead of characters.\n",
        "      separators=['\\n\\n', '\\n', ' '] # our chosen operators for separating\n",
        "      )\n",
        "  texts = text_splitter.split_text(doc)\n",
        "  return texts\n",
        "\n",
        "def chunks_from_file(pdf, max_tokens, overlap_tokens):\n",
        "  loader_doc, doc_content, doc_tokens, doc_name = doc_loader(pdf)\n",
        "  chunks = text_splitter(doc_content, max_tokens, overlap_tokens)\n",
        "  return chunks, doc_name\n",
        "\n",
        "def chunks_from_url(url, max_tokens, overlap_tokens):\n",
        "  loader_doc, doc_content, doc_tokens, doc_name = online_pdf_loader(url)\n",
        "  chunks = text_splitter(doc_content, max_tokens, overlap_tokens)\n",
        "  return chunks, doc_name"
      ],
      "metadata": {
        "id": "vgan7Hztotaa"
      },
      "execution_count": null,
      "outputs": []
    },
    {
      "cell_type": "markdown",
      "source": [
        "## Add user-defined info here.\n",
        "\n",
        "❗️ If you are uploading a PDF file, then update the path string for `my_pdf`. Click on the Folder icon on the left-hand edge of the screen, and drag your PDF\n",
        "into the side-panel. The, right-click on the name of the doc and choose \"copy path\" to get the location of your doc. Paste the result below.\n",
        "\n",
        "❗️ If you are using a URL to a PDF, then paste your URL in the quotes after `my_url` and the OnlinePDFLoader will download the PDF and process it for chunking.\n",
        "\n",
        "You can configure chunk size here for the embeddings as well. I am recommending 600 token chunks because the current beta state of Google Semantic Retriever recommends token lengths around 300. I think that's too short for legal RAG, so I'm trying to be reasonable by limiting our chunks to 2x that value.\n",
        "\n",
        "However, if you are not using Semantic Retriever and/or want to test something specific, you can modify your chunk parameters here."
      ],
      "metadata": {
        "id": "UYP7QljbGiZs"
      }
    },
    {
      "cell_type": "code",
      "source": [
        "# Enter arguments for your Document embedding\n",
        "# This notebook is written assuming you will either upload a file OR provide a URL, but not both.\n",
        "\n",
        "my_pdf = \"/content/Caniglia v. Strom 2021 Opinion.pdf\"\n",
        "my_url = \"https://www.supremecourt.gov/opinions/22pdf/21-869_87ad.pdf\"\n",
        "\n",
        "max_tokens = 600\n",
        "overlap_tokens = 50"
      ],
      "metadata": {
        "id": "pr3AXVAFIGCZ"
      },
      "execution_count": null,
      "outputs": []
    },
    {
      "cell_type": "code",
      "source": [
        "# @title If you uploaded a file, run this cell\n",
        "chunks, doc_name = chunks_from_file(my_pdf, max_tokens, overlap_tokens)"
      ],
      "metadata": {
        "id": "IgZVVm1jss_7"
      },
      "execution_count": null,
      "outputs": []
    },
    {
      "cell_type": "code",
      "source": [
        "# @title If you are using a pdf URL, run this cell\n",
        "chunks, doc_name = chunks_from_url(my_url, max_tokens, overlap_tokens)"
      ],
      "metadata": {
        "id": "JX9J8YMmLzDS"
      },
      "execution_count": null,
      "outputs": []
    },
    {
      "cell_type": "markdown",
      "metadata": {
        "id": "dD1lQx3Zr3S2"
      },
      "source": [
        "## Building an embeddings database\n",
        "\n",
        "Let's take a look at a few of these Chunks. You will use the Gemini API to create embeddings of each of the documents. Turn them into a dataframe for better visualization.\n",
        "\n",
        "Also, the chunking operation also extracts a value for doc_name, which is just the name of the document from the file or URL. Since this value is used as the `title` parameter for the embeddings-001 model, we might want to take a moment to add a more descriptive title now.\n",
        "\n",
        "If the name of your file wasn't terribly descriptive, add a more descriptive one below. Again, the documentation doesn't indicate what this title does, so not sure what to expect. If it is used as metadata, or if some portion of the embedding space is reserved for document title."
      ]
    },
    {
      "cell_type": "code",
      "execution_count": null,
      "metadata": {
        "id": "XvLRIbpq4vNN",
        "colab": {
          "base_uri": "https://localhost:8080/"
        },
        "outputId": "1377e452-6945-4078-dedc-4a7e5dfc7a9f"
      },
      "outputs": [
        {
          "output_type": "execute_result",
          "data": {
            "text/plain": [
              "['(Slip Opinion)\\n\\nOCTOBER TERM, 2022\\n\\nSyllabus\\n\\nNOTE: Where it is feasible, a syllabus (headnote) will be released, as is being done in connection with this case, at the time the opinion is issued. The syllabus constitutes no part of the opinion of the Court but has been prepared by the Reporter of Decisions for the convenience of the reader. See United States v. Detroit Timber & Lumber Co., 200 U. S. 321, 337.\\n\\nSUPREME COURT OF THE UNITED STATES\\n\\nSyllabus\\n\\nANDY WARHOL FOUNDATION FOR THE VISUAL ARTS, INC. v. GOLDSMITH ET AL.\\n\\nCERTIORARI TO THE UNITED STATES COURT OF APPEALS FOR THE SECOND CIRCUIT\\n\\nNo. 21–869. Argued October 12, 2022—Decided May 18, 2023']"
            ]
          },
          "metadata": {},
          "execution_count": 20
        }
      ],
      "source": [
        "# Look at a chunk or two\n",
        "chunks[0:1]"
      ]
    },
    {
      "cell_type": "code",
      "source": [
        "# Provide a better document title for embeddings, if you want.\n",
        "doc_name = \"(better title)\""
      ],
      "metadata": {
        "id": "JEuOv4kwTSxH"
      },
      "execution_count": null,
      "outputs": []
    },
    {
      "cell_type": "markdown",
      "metadata": {
        "id": "WwhCQwPbvwc-"
      },
      "source": [
        "Organize the contents of the dictionary into a dataframe for better visualization."
      ]
    },
    {
      "cell_type": "markdown",
      "source": [
        "## These functions build our local \"vector database\"\n",
        "The first function is the Google AI sample function for getting an embedding vector using the Gemini family \"embeddings-001\" model. I'm being a bit redundant here in requiring a `model` argument, given that there's only one embedding model currently available on Google AI Studio.\n",
        "\n",
        "Below, we are creating a dataframe consisting of our original chunks, then adding a column for embedding vectors, and aqa_ids to use later. Our code is processing the dataframe row-by-row, meaning the embeddings are being processed one at a time. If your PDF was extremely long, and you have many hundreds, or thousands, of chunks then this step may take a few minutes. Ordinarily, you can batch embedding requests to send 30-100 at once, subject to the rate limits of the provider."
      ],
      "metadata": {
        "id": "ArPH_1oqWhaR"
      }
    },
    {
      "cell_type": "code",
      "execution_count": null,
      "metadata": {
        "id": "4SOhy0lNBhfN"
      },
      "outputs": [],
      "source": [
        "# Get the embeddings of each text and add to an embeddings column in the dataframe\n",
        "def get_embedding(chunk, doc_name, model=\"models/embedding-001\"):\n",
        "  # title field is optional.\n",
        "  return genai.embed_content(model=model,\n",
        "                             content=chunk,\n",
        "                             task_type=\"retrieval_document\",\n",
        "                             title=doc_name)[\"embedding\"]\n",
        "\n",
        "def embed_to_dataframe(chunks, doc_name, model):\n",
        "    # Create the dataframe\n",
        "    df = pd.DataFrame(chunks, columns=['Docs'])\n",
        "\n",
        "    # Apply the embed_fn function to each row in the 'Docs' column\n",
        "    df['Embeddings'] = df['Docs'].apply(lambda x: get_embedding(x, doc_name, model))\n",
        "\n",
        "    # Add aqa_id column\n",
        "    df['aqa_id'] = df.index.map(lambda x: '{0:03d}'.format(x))\n",
        "\n",
        "    return df"
      ]
    },
    {
      "cell_type": "code",
      "source": [
        "#this step creates the embeddings\n",
        "model = 'models/embedding-001'\n",
        "df = embed_to_dataframe(chunks, doc_name, model)"
      ],
      "metadata": {
        "id": "U_Fk16qqyzKu"
      },
      "execution_count": null,
      "outputs": []
    },
    {
      "cell_type": "markdown",
      "source": [
        "Now we can take a peek at our completed Knowledge base, which is a pandas dataframe with a \"Docs\" column for text chunks, \"Embeddings\" from the Gemini `embeddings-001`, which appear to be 768 dimensional vector blobs of numbers, and then `aqa_id` values which we will use for inline grounding passages for our Semantic Retrieval with Attributed Question Answering."
      ],
      "metadata": {
        "id": "UyYQXFZANqwj"
      }
    },
    {
      "cell_type": "code",
      "source": [
        "df"
      ],
      "metadata": {
        "colab": {
          "base_uri": "https://localhost:8080/",
          "height": 424
        },
        "id": "CXj3wtiwppHe",
        "outputId": "25c48015-bd07-4815-b2da-e4961f503326"
      },
      "execution_count": null,
      "outputs": [
        {
          "output_type": "execute_result",
          "data": {
            "text/plain": [
              "                                                 Docs  \\\n",
              "0   (Slip Opinion)\\n\\nOCTOBER TERM, 2022\\n\\nSyllab...   \n",
              "1   CERTIORARI TO THE UNITED STATES COURT OF APPEA...   \n",
              "2   1\\n\\n2\\n\\nANDY WARHOL FOUNDATION FOR VISUAL AR...   \n",
              "3   (a) AWF contends that the Prince Series works ...   \n",
              "4   Cite as: 598 U. S. ____ (2023)\\n\\nSyllabus\\n\\n...   \n",
              "..                                                ...   \n",
              "81  Consider as one example the reclining nude. Pr...   \n",
              "82  Take a look at one last example, from a modern...   \n",
              "83  33\\n\\n34 ANDY WARHOL FOUNDATION FOR VISUAL ART...   \n",
              "84  Cite as: 598 U. S. ____ (2023)\\n\\nKAGAN, J., d...   \n",
              "85  v. GOLDSMITH KAGAN, J., dissenting\\n\\nand it d...   \n",
              "\n",
              "                                           Embeddings aqa_id  \n",
              "0   [0.026983079, -0.02162463, -0.03576854, -0.029...    000  \n",
              "1   [-0.004097693, -0.041530993, -0.051666588, -0....    001  \n",
              "2   [-0.00965148, -0.081810914, -0.06743688, -0.04...    002  \n",
              "3   [-0.025916703, -0.034734536, -0.053024877, -0....    003  \n",
              "4   [-0.002050875, -0.051198956, -0.052557763, -0....    004  \n",
              "..                                                ...    ...  \n",
              "81  [-0.025912184, 0.0056529893, -0.062337235, -0....    081  \n",
              "82  [0.008020435, -0.044162907, -0.07065879, -0.01...    082  \n",
              "83  [-0.0037841713, -0.04654758, -0.07466252, -0.0...    083  \n",
              "84  [-0.017232843, -0.030867845, -0.061245237, -0....    084  \n",
              "85  [-0.008720395, -0.06030661, -0.054662064, -0.0...    085  \n",
              "\n",
              "[86 rows x 3 columns]"
            ],
            "text/html": [
              "\n",
              "  <div id=\"df-55b3779e-8383-4052-b419-de6b046847c3\" class=\"colab-df-container\">\n",
              "    <div>\n",
              "<style scoped>\n",
              "    .dataframe tbody tr th:only-of-type {\n",
              "        vertical-align: middle;\n",
              "    }\n",
              "\n",
              "    .dataframe tbody tr th {\n",
              "        vertical-align: top;\n",
              "    }\n",
              "\n",
              "    .dataframe thead th {\n",
              "        text-align: right;\n",
              "    }\n",
              "</style>\n",
              "<table border=\"1\" class=\"dataframe\">\n",
              "  <thead>\n",
              "    <tr style=\"text-align: right;\">\n",
              "      <th></th>\n",
              "      <th>Docs</th>\n",
              "      <th>Embeddings</th>\n",
              "      <th>aqa_id</th>\n",
              "    </tr>\n",
              "  </thead>\n",
              "  <tbody>\n",
              "    <tr>\n",
              "      <th>0</th>\n",
              "      <td>(Slip Opinion)\\n\\nOCTOBER TERM, 2022\\n\\nSyllab...</td>\n",
              "      <td>[0.026983079, -0.02162463, -0.03576854, -0.029...</td>\n",
              "      <td>000</td>\n",
              "    </tr>\n",
              "    <tr>\n",
              "      <th>1</th>\n",
              "      <td>CERTIORARI TO THE UNITED STATES COURT OF APPEA...</td>\n",
              "      <td>[-0.004097693, -0.041530993, -0.051666588, -0....</td>\n",
              "      <td>001</td>\n",
              "    </tr>\n",
              "    <tr>\n",
              "      <th>2</th>\n",
              "      <td>1\\n\\n2\\n\\nANDY WARHOL FOUNDATION FOR VISUAL AR...</td>\n",
              "      <td>[-0.00965148, -0.081810914, -0.06743688, -0.04...</td>\n",
              "      <td>002</td>\n",
              "    </tr>\n",
              "    <tr>\n",
              "      <th>3</th>\n",
              "      <td>(a) AWF contends that the Prince Series works ...</td>\n",
              "      <td>[-0.025916703, -0.034734536, -0.053024877, -0....</td>\n",
              "      <td>003</td>\n",
              "    </tr>\n",
              "    <tr>\n",
              "      <th>4</th>\n",
              "      <td>Cite as: 598 U. S. ____ (2023)\\n\\nSyllabus\\n\\n...</td>\n",
              "      <td>[-0.002050875, -0.051198956, -0.052557763, -0....</td>\n",
              "      <td>004</td>\n",
              "    </tr>\n",
              "    <tr>\n",
              "      <th>...</th>\n",
              "      <td>...</td>\n",
              "      <td>...</td>\n",
              "      <td>...</td>\n",
              "    </tr>\n",
              "    <tr>\n",
              "      <th>81</th>\n",
              "      <td>Consider as one example the reclining nude. Pr...</td>\n",
              "      <td>[-0.025912184, 0.0056529893, -0.062337235, -0....</td>\n",
              "      <td>081</td>\n",
              "    </tr>\n",
              "    <tr>\n",
              "      <th>82</th>\n",
              "      <td>Take a look at one last example, from a modern...</td>\n",
              "      <td>[0.008020435, -0.044162907, -0.07065879, -0.01...</td>\n",
              "      <td>082</td>\n",
              "    </tr>\n",
              "    <tr>\n",
              "      <th>83</th>\n",
              "      <td>33\\n\\n34 ANDY WARHOL FOUNDATION FOR VISUAL ART...</td>\n",
              "      <td>[-0.0037841713, -0.04654758, -0.07466252, -0.0...</td>\n",
              "      <td>083</td>\n",
              "    </tr>\n",
              "    <tr>\n",
              "      <th>84</th>\n",
              "      <td>Cite as: 598 U. S. ____ (2023)\\n\\nKAGAN, J., d...</td>\n",
              "      <td>[-0.017232843, -0.030867845, -0.061245237, -0....</td>\n",
              "      <td>084</td>\n",
              "    </tr>\n",
              "    <tr>\n",
              "      <th>85</th>\n",
              "      <td>v. GOLDSMITH KAGAN, J., dissenting\\n\\nand it d...</td>\n",
              "      <td>[-0.008720395, -0.06030661, -0.054662064, -0.0...</td>\n",
              "      <td>085</td>\n",
              "    </tr>\n",
              "  </tbody>\n",
              "</table>\n",
              "<p>86 rows × 3 columns</p>\n",
              "</div>\n",
              "    <div class=\"colab-df-buttons\">\n",
              "\n",
              "  <div class=\"colab-df-container\">\n",
              "    <button class=\"colab-df-convert\" onclick=\"convertToInteractive('df-55b3779e-8383-4052-b419-de6b046847c3')\"\n",
              "            title=\"Convert this dataframe to an interactive table.\"\n",
              "            style=\"display:none;\">\n",
              "\n",
              "  <svg xmlns=\"http://www.w3.org/2000/svg\" height=\"24px\" viewBox=\"0 -960 960 960\">\n",
              "    <path d=\"M120-120v-720h720v720H120Zm60-500h600v-160H180v160Zm220 220h160v-160H400v160Zm0 220h160v-160H400v160ZM180-400h160v-160H180v160Zm440 0h160v-160H620v160ZM180-180h160v-160H180v160Zm440 0h160v-160H620v160Z\"/>\n",
              "  </svg>\n",
              "    </button>\n",
              "\n",
              "  <style>\n",
              "    .colab-df-container {\n",
              "      display:flex;\n",
              "      gap: 12px;\n",
              "    }\n",
              "\n",
              "    .colab-df-convert {\n",
              "      background-color: #E8F0FE;\n",
              "      border: none;\n",
              "      border-radius: 50%;\n",
              "      cursor: pointer;\n",
              "      display: none;\n",
              "      fill: #1967D2;\n",
              "      height: 32px;\n",
              "      padding: 0 0 0 0;\n",
              "      width: 32px;\n",
              "    }\n",
              "\n",
              "    .colab-df-convert:hover {\n",
              "      background-color: #E2EBFA;\n",
              "      box-shadow: 0px 1px 2px rgba(60, 64, 67, 0.3), 0px 1px 3px 1px rgba(60, 64, 67, 0.15);\n",
              "      fill: #174EA6;\n",
              "    }\n",
              "\n",
              "    .colab-df-buttons div {\n",
              "      margin-bottom: 4px;\n",
              "    }\n",
              "\n",
              "    [theme=dark] .colab-df-convert {\n",
              "      background-color: #3B4455;\n",
              "      fill: #D2E3FC;\n",
              "    }\n",
              "\n",
              "    [theme=dark] .colab-df-convert:hover {\n",
              "      background-color: #434B5C;\n",
              "      box-shadow: 0px 1px 3px 1px rgba(0, 0, 0, 0.15);\n",
              "      filter: drop-shadow(0px 1px 2px rgba(0, 0, 0, 0.3));\n",
              "      fill: #FFFFFF;\n",
              "    }\n",
              "  </style>\n",
              "\n",
              "    <script>\n",
              "      const buttonEl =\n",
              "        document.querySelector('#df-55b3779e-8383-4052-b419-de6b046847c3 button.colab-df-convert');\n",
              "      buttonEl.style.display =\n",
              "        google.colab.kernel.accessAllowed ? 'block' : 'none';\n",
              "\n",
              "      async function convertToInteractive(key) {\n",
              "        const element = document.querySelector('#df-55b3779e-8383-4052-b419-de6b046847c3');\n",
              "        const dataTable =\n",
              "          await google.colab.kernel.invokeFunction('convertToInteractive',\n",
              "                                                    [key], {});\n",
              "        if (!dataTable) return;\n",
              "\n",
              "        const docLinkHtml = 'Like what you see? Visit the ' +\n",
              "          '<a target=\"_blank\" href=https://colab.research.google.com/notebooks/data_table.ipynb>data table notebook</a>'\n",
              "          + ' to learn more about interactive tables.';\n",
              "        element.innerHTML = '';\n",
              "        dataTable['output_type'] = 'display_data';\n",
              "        await google.colab.output.renderOutput(dataTable, element);\n",
              "        const docLink = document.createElement('div');\n",
              "        docLink.innerHTML = docLinkHtml;\n",
              "        element.appendChild(docLink);\n",
              "      }\n",
              "    </script>\n",
              "  </div>\n",
              "\n",
              "\n",
              "<div id=\"df-ed90b503-6cee-499d-87d7-d8ff5675dcd0\">\n",
              "  <button class=\"colab-df-quickchart\" onclick=\"quickchart('df-ed90b503-6cee-499d-87d7-d8ff5675dcd0')\"\n",
              "            title=\"Suggest charts\"\n",
              "            style=\"display:none;\">\n",
              "\n",
              "<svg xmlns=\"http://www.w3.org/2000/svg\" height=\"24px\"viewBox=\"0 0 24 24\"\n",
              "     width=\"24px\">\n",
              "    <g>\n",
              "        <path d=\"M19 3H5c-1.1 0-2 .9-2 2v14c0 1.1.9 2 2 2h14c1.1 0 2-.9 2-2V5c0-1.1-.9-2-2-2zM9 17H7v-7h2v7zm4 0h-2V7h2v10zm4 0h-2v-4h2v4z\"/>\n",
              "    </g>\n",
              "</svg>\n",
              "  </button>\n",
              "\n",
              "<style>\n",
              "  .colab-df-quickchart {\n",
              "      --bg-color: #E8F0FE;\n",
              "      --fill-color: #1967D2;\n",
              "      --hover-bg-color: #E2EBFA;\n",
              "      --hover-fill-color: #174EA6;\n",
              "      --disabled-fill-color: #AAA;\n",
              "      --disabled-bg-color: #DDD;\n",
              "  }\n",
              "\n",
              "  [theme=dark] .colab-df-quickchart {\n",
              "      --bg-color: #3B4455;\n",
              "      --fill-color: #D2E3FC;\n",
              "      --hover-bg-color: #434B5C;\n",
              "      --hover-fill-color: #FFFFFF;\n",
              "      --disabled-bg-color: #3B4455;\n",
              "      --disabled-fill-color: #666;\n",
              "  }\n",
              "\n",
              "  .colab-df-quickchart {\n",
              "    background-color: var(--bg-color);\n",
              "    border: none;\n",
              "    border-radius: 50%;\n",
              "    cursor: pointer;\n",
              "    display: none;\n",
              "    fill: var(--fill-color);\n",
              "    height: 32px;\n",
              "    padding: 0;\n",
              "    width: 32px;\n",
              "  }\n",
              "\n",
              "  .colab-df-quickchart:hover {\n",
              "    background-color: var(--hover-bg-color);\n",
              "    box-shadow: 0 1px 2px rgba(60, 64, 67, 0.3), 0 1px 3px 1px rgba(60, 64, 67, 0.15);\n",
              "    fill: var(--button-hover-fill-color);\n",
              "  }\n",
              "\n",
              "  .colab-df-quickchart-complete:disabled,\n",
              "  .colab-df-quickchart-complete:disabled:hover {\n",
              "    background-color: var(--disabled-bg-color);\n",
              "    fill: var(--disabled-fill-color);\n",
              "    box-shadow: none;\n",
              "  }\n",
              "\n",
              "  .colab-df-spinner {\n",
              "    border: 2px solid var(--fill-color);\n",
              "    border-color: transparent;\n",
              "    border-bottom-color: var(--fill-color);\n",
              "    animation:\n",
              "      spin 1s steps(1) infinite;\n",
              "  }\n",
              "\n",
              "  @keyframes spin {\n",
              "    0% {\n",
              "      border-color: transparent;\n",
              "      border-bottom-color: var(--fill-color);\n",
              "      border-left-color: var(--fill-color);\n",
              "    }\n",
              "    20% {\n",
              "      border-color: transparent;\n",
              "      border-left-color: var(--fill-color);\n",
              "      border-top-color: var(--fill-color);\n",
              "    }\n",
              "    30% {\n",
              "      border-color: transparent;\n",
              "      border-left-color: var(--fill-color);\n",
              "      border-top-color: var(--fill-color);\n",
              "      border-right-color: var(--fill-color);\n",
              "    }\n",
              "    40% {\n",
              "      border-color: transparent;\n",
              "      border-right-color: var(--fill-color);\n",
              "      border-top-color: var(--fill-color);\n",
              "    }\n",
              "    60% {\n",
              "      border-color: transparent;\n",
              "      border-right-color: var(--fill-color);\n",
              "    }\n",
              "    80% {\n",
              "      border-color: transparent;\n",
              "      border-right-color: var(--fill-color);\n",
              "      border-bottom-color: var(--fill-color);\n",
              "    }\n",
              "    90% {\n",
              "      border-color: transparent;\n",
              "      border-bottom-color: var(--fill-color);\n",
              "    }\n",
              "  }\n",
              "</style>\n",
              "\n",
              "  <script>\n",
              "    async function quickchart(key) {\n",
              "      const quickchartButtonEl =\n",
              "        document.querySelector('#' + key + ' button');\n",
              "      quickchartButtonEl.disabled = true;  // To prevent multiple clicks.\n",
              "      quickchartButtonEl.classList.add('colab-df-spinner');\n",
              "      try {\n",
              "        const charts = await google.colab.kernel.invokeFunction(\n",
              "            'suggestCharts', [key], {});\n",
              "      } catch (error) {\n",
              "        console.error('Error during call to suggestCharts:', error);\n",
              "      }\n",
              "      quickchartButtonEl.classList.remove('colab-df-spinner');\n",
              "      quickchartButtonEl.classList.add('colab-df-quickchart-complete');\n",
              "    }\n",
              "    (() => {\n",
              "      let quickchartButtonEl =\n",
              "        document.querySelector('#df-ed90b503-6cee-499d-87d7-d8ff5675dcd0 button');\n",
              "      quickchartButtonEl.style.display =\n",
              "        google.colab.kernel.accessAllowed ? 'block' : 'none';\n",
              "    })();\n",
              "  </script>\n",
              "</div>\n",
              "\n",
              "  <div id=\"id_38761fe0-bbb4-47fd-a6c5-15465ca8127b\">\n",
              "    <style>\n",
              "      .colab-df-generate {\n",
              "        background-color: #E8F0FE;\n",
              "        border: none;\n",
              "        border-radius: 50%;\n",
              "        cursor: pointer;\n",
              "        display: none;\n",
              "        fill: #1967D2;\n",
              "        height: 32px;\n",
              "        padding: 0 0 0 0;\n",
              "        width: 32px;\n",
              "      }\n",
              "\n",
              "      .colab-df-generate:hover {\n",
              "        background-color: #E2EBFA;\n",
              "        box-shadow: 0px 1px 2px rgba(60, 64, 67, 0.3), 0px 1px 3px 1px rgba(60, 64, 67, 0.15);\n",
              "        fill: #174EA6;\n",
              "      }\n",
              "\n",
              "      [theme=dark] .colab-df-generate {\n",
              "        background-color: #3B4455;\n",
              "        fill: #D2E3FC;\n",
              "      }\n",
              "\n",
              "      [theme=dark] .colab-df-generate:hover {\n",
              "        background-color: #434B5C;\n",
              "        box-shadow: 0px 1px 3px 1px rgba(0, 0, 0, 0.15);\n",
              "        filter: drop-shadow(0px 1px 2px rgba(0, 0, 0, 0.3));\n",
              "        fill: #FFFFFF;\n",
              "      }\n",
              "    </style>\n",
              "    <button class=\"colab-df-generate\" onclick=\"generateWithVariable('df')\"\n",
              "            title=\"Generate code using this dataframe.\"\n",
              "            style=\"display:none;\">\n",
              "\n",
              "  <svg xmlns=\"http://www.w3.org/2000/svg\" height=\"24px\"viewBox=\"0 0 24 24\"\n",
              "       width=\"24px\">\n",
              "    <path d=\"M7,19H8.4L18.45,9,17,7.55,7,17.6ZM5,21V16.75L18.45,3.32a2,2,0,0,1,2.83,0l1.4,1.43a1.91,1.91,0,0,1,.58,1.4,1.91,1.91,0,0,1-.58,1.4L9.25,21ZM18.45,9,17,7.55Zm-12,3A5.31,5.31,0,0,0,4.9,8.1,5.31,5.31,0,0,0,1,6.5,5.31,5.31,0,0,0,4.9,4.9,5.31,5.31,0,0,0,6.5,1,5.31,5.31,0,0,0,8.1,4.9,5.31,5.31,0,0,0,12,6.5,5.46,5.46,0,0,0,6.5,12Z\"/>\n",
              "  </svg>\n",
              "    </button>\n",
              "    <script>\n",
              "      (() => {\n",
              "      const buttonEl =\n",
              "        document.querySelector('#id_38761fe0-bbb4-47fd-a6c5-15465ca8127b button.colab-df-generate');\n",
              "      buttonEl.style.display =\n",
              "        google.colab.kernel.accessAllowed ? 'block' : 'none';\n",
              "\n",
              "      buttonEl.onclick = () => {\n",
              "        google.colab.notebook.generateWithVariable('df');\n",
              "      }\n",
              "      })();\n",
              "    </script>\n",
              "  </div>\n",
              "\n",
              "    </div>\n",
              "  </div>\n"
            ]
          },
          "metadata": {},
          "execution_count": 23
        }
      ]
    },
    {
      "cell_type": "markdown",
      "metadata": {
        "id": "iivgDQej5Agt"
      },
      "source": [
        "Use the `retrieve docs` function to calculate the dot products, and then sort the dataframe from the largest to smallest dot product value to retrieve the relevant passages out of the database.\n",
        "\n",
        "I modified this function to accept a top_k parameter, then, at the bottom of each returned Doc text, I'm appending a \"Source Ref\" string consisting of the Doc name and the dataframe index, mostly as an experiment to see how well the LLM utilizes in-context source data (spoiler: in general it doesn't work that well). Remember that this is being injected into the returned doc text, and not part of the vectors themselves."
      ]
    },
    {
      "cell_type": "code",
      "execution_count": null,
      "metadata": {
        "id": "am36P3J9M6Zv"
      },
      "outputs": [],
      "source": [
        "#modified function to take a top_k parameter, perform a sort function on the dataframe, and return the top_k results as a list\n",
        "#modified to include a \"Source\" attribution based on the dataframe indices pre-argsort\n",
        "def retrieve_docs(query, dataframe, top_k):\n",
        "    \"\"\"\n",
        "    Compute the dot product similarities between the query and each document in the dataframe,\n",
        "    and return the top_k best matches with original DataFrame indices.\n",
        "    \"\"\"\n",
        "    # Generate the embedding for the query\n",
        "    query_embedding = genai.embed_content(model='models/embedding-001',\n",
        "                                          content=query,\n",
        "                                          task_type=\"retrieval_query\")\n",
        "\n",
        "    # Compute dot products\n",
        "    dot_products = np.dot(np.stack(dataframe['Embeddings']), query_embedding[\"embedding\"])\n",
        "\n",
        "    # Get original indices and sort by dot product values\n",
        "    sorted_indices = np.argsort(dot_products)[::-1]\n",
        "    original_indices = dataframe.index[sorted_indices]\n",
        "\n",
        "    return original_indices[:top_k]\n",
        "\n",
        "# Format and return the corresponding texts with original indices\n",
        "def docs_with_sources(query, dataframe, top_k=3):\n",
        "    rag_docs = retrieve_docs(query, dataframe, top_k)\n",
        "    top_k_docs = []\n",
        "    for idx in rag_docs:\n",
        "        document = dataframe.loc[idx, 'Docs']\n",
        "        source_ref = f\"\\n\\n(Source: {doc_name} #{idx})\"\n",
        "        top_k_docs.append(document + source_ref)\n",
        "\n",
        "    return top_k_docs"
      ]
    },
    {
      "cell_type": "code",
      "source": [
        "#Now let's ask a question for our retrieval function\n",
        "query = \"How does transformative use factor into the court's fair use analysis?\""
      ],
      "metadata": {
        "id": "hyqyvIiNXrKU"
      },
      "execution_count": null,
      "outputs": []
    },
    {
      "cell_type": "code",
      "source": [
        "#Try a few different questions and see how the retrieved docs change.\n",
        "rag_docs = docs_with_sources(query, df, 3)\n",
        "for doc in rag_docs:\n",
        "  print(doc, \"\\n\\n\")"
      ],
      "metadata": {
        "id": "RBVeD5F5zGH7"
      },
      "execution_count": null,
      "outputs": []
    },
    {
      "cell_type": "markdown",
      "metadata": {
        "id": "ebkGT0ha5Ln3"
      },
      "source": [
        "## Question and Answering Application\n",
        "\n",
        "Let's try to use the text generation API to create a Q & A system. Input your own custom data below to create a simple question and answering example. You will still use the dot product as a metric of similarity.\n",
        "\n",
        "I'm not in love with this prompt, but this is the suggested format from the Google AI folks. I've adjusted it slightly for tone suitable for a legal audience, but modify this as you see fit, and see how it changes Gemini's answer style.\n",
        "\n",
        "This function formats and composes the retrieved rag_docs into a prompt suitable for Gemini Pro. This giant string blob that ends with a \"\\n\\nDelimiter\" seems awfully familiar. Now what other model uses this format? Oh, right, Anthropic Claude. *Very interesting* to see that they've configured the Google AI studio endpoint to behave this way...\n",
        "\n",
        "#🤔"
      ]
    },
    {
      "cell_type": "code",
      "source": [
        "def make_prompt(query, rag_docs):\n",
        "    \"\"\"\n",
        "    Create a prompt using the query and a list of relevant passages.\n",
        "    \"\"\"\n",
        "    # Escape and format each passage, then join them into a single string\n",
        "    formatted_passages = \" \".join([passage.replace(\"'\", \"\").replace('\"', \"\").replace(\"\\n\", \" \") for passage in rag_docs])\n",
        "\n",
        "    prompt = textwrap.dedent(\"\"\"\\\n",
        "    You are a helpful and informative bot that answers questions using text from the reference passages included below. \\\n",
        "    Provide a detailed report, being comprehensive, including all relevant background information. \\\n",
        "    Your audience is legal professionals and analysts who need in-depth, details legal analysis and answers \\\n",
        "    So provide competent, accurate answers with \"Source\" attribution whenever possible \\\n",
        "    If some information in the passages are irrelevant to the answer, you may ignore them. \\\n",
        "    Begin your answer by restating the question, then providing your answer after. \\\n",
        "    QUESTION: '{query}'\n",
        "    PASSAGES: '{formatted_passages}'\n",
        "\n",
        "    ANSWER:\n",
        "    \"\"\").format(query=query, formatted_passages=formatted_passages)\n",
        "\n",
        "    return prompt"
      ],
      "metadata": {
        "id": "3uota_cA0uq4"
      },
      "execution_count": null,
      "outputs": []
    },
    {
      "cell_type": "code",
      "source": [
        "#take a look at the prompt results here\n",
        "prompt = make_prompt(query, rag_docs)\n",
        "prompt"
      ],
      "metadata": {
        "colab": {
          "base_uri": "https://localhost:8080/",
          "height": 178
        },
        "id": "JX85Gu9W063r",
        "outputId": "88b7c28d-3dc3-40bb-8005-005baafb7bd8"
      },
      "execution_count": null,
      "outputs": [
        {
          "output_type": "execute_result",
          "data": {
            "text/plain": [
              "'You are a helpful and informative bot that answers questions using text from the reference passages included below.     Provide a detailed report, being comprehensive, including all relevant background information.     Your audience is legal professionals and analysts who need in-depth, details legal analysis and answers     So provide competent, accurate answers with \"Source\" attribution whenever possible     If some information in the passages are irrelevant to the answer, you may ignore them.     Begin your answer by restating the question, then providing your answer after.     QUESTION: \\'How does transformative use factor into the court\\'s fair use analysis?\\'\\nPASSAGES: \\'15  16 ANDY WARHOL FOUNDATION FOR VISUAL ARTS, INC.  v. GOLDSMITH Opinion of the Court  in the sense that copying is socially useful ex post. Many secondary works add something new. That alone does not render such uses fair. Rather, the first factor (which is just one factor in a larger analysis) asks “whether and to what extent” the use at issue has a purpose or character different from the original. Campbell, 510 U. S., at 579 (emphasis added). The larger the difference, the more likely the first factor weighs in favor of fair use. The smaller the differ- ence, the less likely.  A use that has a further purpose or different character is said to be “ ‘transformative.’ ” Ibid. (quoting P. Leval, To- ward a Fair Use Standard, 103 Harv. L. Rev. 1105, 1111 (1990) (hereinafter Leval)). As before, “transformative- ness” is a matter of degree. See Campbell, 510 U. S., at 579. That is important because the word “transform,” though not included in §107, appears elsewhere in the Copyright Act. The statute defines derivative works, which the copyright owner has “the exclusive righ[t]” to prepare, §106(2), to in- clude “any other form in which a work may be recast, trans- formed, or adapted,” §101. In other words, the owner has a right to derivative transformations of her work. Such transformations may be substantial, like the adaptation of a book into a movie. To be sure, this right is “[s]ubject to” fair use. §106; see also §107. The two are not mutually exclusive. But an overbroad concept of transformative use, one that includes any further purpose, or any different character, would narrow the copyright owner’s exclusive right to create derivative works. To preserve that right, the degree of transformation required to make “transformative” use of an original must go beyond that required to qualify as a derivative.5  ——————  5 In theory, the question of transformative use or transformative pur- pose can be separated from the question whether there has been trans- formation of a work. In practice, however, the two may overlap. Com- pare, e.g., Núñez v. Caribbean Int’l News Corp., 235 F. 3d 18, 21–23 (CA1  Cite as: 598 U. S. ____ (2023)  Opinion of the Court  Source: 21-869_87ad.pdf #20) 1  Campbell did describe a transformative use as one that “alter[s] the first [work] with new expression, meaning, or message.” 510 U. S., at 579; see also Google, 593 U. S., at ___ (slip op., at 24). That description paraphrased Judge Leval’s law review article, which referred to “new infor- mation, new aesthetics, new insights and understandings.” Leval 1111. (Judge Leval contrasted such additions with secondary uses that “merely repackag[e]” the original. Ibid.) But Campbell cannot be read to mean that §107(1) weighs in favor of any use that adds some new expression, meaning, or message.  Otherwise, “transformative use” would swallow the copy- right owner’s exclusive right to prepare derivative works. Many derivative works, including musical arrangements, film and stage adaptions, sequels, spinoffs, and others that “recast, transfor[m] or adap[t]” the original, §101, add new expression, meaning or message, or provide new infor- mation, new aesthetics, new insights and understandings. That is an intractable problem for AWF’s interpretation of transformative use. The first fair use factor would not  Cite as: 598 U. S. ____ (2023)  Opinion of the Court  weigh in favor of a commercial remix of Prince’s “Purple Rain” just because the remix added new expression or had a different aesthetic. A film or musical adaptation, like that of Alice Walker’s The Color Purple, might win awards for its “significant creative contribution”; alter the meaning of a classic novel; and add “important new expression,” such as images, performances, original music, and lyrics. Post, at 11, 23 (KAGAN, J., dissenting) (internal quotation marks omitted). But that does not in itself dispense with the need for licensing.17  Source: 21-869_87ad.pdf #33) Cite as: 598 U. S. ____ (2023)  KAGAN, J., dissenting  of fair use. Id., at 583. And that was so even though the rap song was, as everyone agreed, recorded and later sold for profit. See id., at 573.  Just two Terms ago, in Google, we made all the same points. We quoted Campbell in explaining that the factor 1 inquiry is “whether the copier’s use ‘adds something new, with a further purpose or different character, altering’ the copyrighted work ‘with new expression, meaning, or mes- sage.’ ” 593 U. S., at ___ (slip op., at 24). We again described “a copying use that adds something new and important” as “transformative.” Ibid. We reiterated that protecting transformative uses “stimulate[s] creativity” and thus “ful- fill[s] the objective of copyright law.” Ibid. (quoting Leval 1111). And then we gave an example. Yes, of course, we pointed to Andy Warhol. (The majority claims not to be em- barrassed by this embarrassing fact because the specific reference was to his Soup Cans, rather than his celebrity images. But drawing a distinction between a “commentary on consumerism”—which is how the majority describes his soup canvases, ante, at 27—and a commentary on celebrity culture, i.e., the turning of people into consumption items, is slicing the baloney pretty thin.) Finally, the Court con- ducted the first-factor inquiry it had described. Google had replicated Sun Microsystems’ computer code as part of a “commercial endeavor,” done “for commercial profit.” 593 U. S., at ___ (slip op., at 27). No matter, said the Court. “[M]any common fair uses are indisputably commercial.” Ibid. What mattered instead was that Google had used Sun’s code to make “something new and important”: a “highly creative and innovative” software platform. Id., at ___–___ (slip op., at 24–25). The use of the code, the Court held, was therefore “transformative” and “point[ed] toward fair use.” Id., at ___, ___ (slip op., at 25, 28).  Campbell and Google also illustrate the difference it can make in the world to protect transformative works through fair use. Easy enough to say (as the majority does, see ante,  15  16 ANDY WARHOL FOUNDATION FOR VISUAL ARTS, INC.  v. GOLDSMITH KAGAN, J., dissenting  Source: 21-869_87ad.pdf #64)\\'\\n\\nANSWER:\\n'"
            ],
            "application/vnd.google.colaboratory.intrinsic+json": {
              "type": "string"
            }
          },
          "metadata": {},
          "execution_count": 41
        }
      ]
    },
    {
      "cell_type": "markdown",
      "source": [
        "## Let's do some class assignments to set up the LLM calls\n",
        "\n",
        "For more information regarding Google's LLM parameters, look at their documentation here: https://ai.google.dev/api/python/google/generativeai/GenerationConfig\n",
        "\n",
        "The first cell is just showing us the Gemini Pro information from the SDK. Next, we are defining `config` and `model` to set the values we will use for our API call.\n",
        "\n",
        "The line including `answer = model.generate_content()` is sending off the API request to Gemini Pro."
      ],
      "metadata": {
        "id": "8cKol0ohp_-k"
      }
    },
    {
      "cell_type": "code",
      "source": [
        "#first, let's just take a look at the specs and default config values for Gemini Pro\n",
        "my_model = genai.get_model('models/gemini-pro')\n",
        "print(my_model)"
      ],
      "metadata": {
        "colab": {
          "base_uri": "https://localhost:8080/",
          "height": 213
        },
        "id": "WIzc2mhKqpFA",
        "outputId": "07b9e4f8-5576-475b-c56c-e3d4a99a65c3"
      },
      "execution_count": null,
      "outputs": [
        {
          "output_type": "stream",
          "name": "stdout",
          "text": [
            "Model(name='models/gemini-pro',\n",
            "      base_model_id='',\n",
            "      version='001',\n",
            "      display_name='Gemini Pro',\n",
            "      description='The best model for scaling across a wide range of tasks',\n",
            "      input_token_limit=30720,\n",
            "      output_token_limit=2048,\n",
            "      supported_generation_methods=['generateContent', 'countTokens'],\n",
            "      temperature=0.9,\n",
            "      top_p=1.0,\n",
            "      top_k=1)\n"
          ]
        }
      ]
    },
    {
      "cell_type": "code",
      "source": [
        "config = genai.GenerationConfig(\n",
        "    candidate_count = 1,\n",
        "    stop_sequences = None,\n",
        "    max_output_tokens = 1200,\n",
        "    temperature = 0,\n",
        "    top_p = 1.0,\n",
        "    top_k = 1\n",
        "    )\n",
        "model = genai.GenerativeModel(\n",
        "    model_name = 'gemini-pro',\n",
        "    generation_config = config)"
      ],
      "metadata": {
        "id": "p6yd3j4g1TRS"
      },
      "execution_count": null,
      "outputs": []
    },
    {
      "cell_type": "code",
      "source": [
        "answer = model.generate_content(prompt)\n",
        "Markdown(answer.text)"
      ],
      "metadata": {
        "colab": {
          "base_uri": "https://localhost:8080/",
          "height": 244
        },
        "id": "pbL-hiPWUvRP",
        "outputId": "4b4ec03d-52f0-41c8-acb8-d0b4b99b30b5"
      },
      "execution_count": null,
      "outputs": [
        {
          "output_type": "execute_result",
          "data": {
            "text/plain": [
              "<IPython.core.display.Markdown object>"
            ],
            "text/markdown": "How does transformative use factor into the court's fair use analysis?\n\nThe court's fair use analysis considers whether the use of a copyrighted work is transformative, meaning it adds something new, with a further purpose or different character, altering the copyrighted work with new expression, meaning, or message. The more transformative the use, the more likely it is to be considered fair.\n\nThe court has held that transformative uses are favored because they stimulate creativity and fulfill the objective of copyright law. In Campbell v. Acuff-Rose Music, Inc., the court found that a rap song that used a sample of a copyrighted song was a transformative use because it added new expression and meaning to the original work. In Google LLC v. Oracle America, Inc., the court found that Google's use of Sun Microsystems' Java API in its Android operating system was a transformative use because it created a new and innovative software platform.\n\nThe court's transformative use analysis is a flexible one that takes into account the specific facts of each case. However, the court has made it clear that transformative uses are favored and that they can play an important role in promoting creativity and innovation.\n\nSource: Campbell v. Acuff-Rose Music, Inc., 510 U.S. 569 (1994); Google LLC v. Oracle America, Inc., 593 U.S. ___ (2021)."
          },
          "metadata": {},
          "execution_count": 43
        }
      ]
    },
    {
      "cell_type": "markdown",
      "source": [
        "Let's wrap the RAG retrieval, Prompt formatting, and LLM Call into a single function so that it's a bit easier to work with. I've also just exploded the entire config parameter set according to the documentation in case you want to tweak a value, or change which arguments the function takes."
      ],
      "metadata": {
        "id": "jVWa3_1VSQbr"
      }
    },
    {
      "cell_type": "code",
      "source": [
        "def gemini_rag_answer(query, top_k, model='gemini-pro', temperature=0, max_tokens=1200):\n",
        "    rag_docs = docs_with_sources(query, df, top_k)\n",
        "    prompt = make_prompt(query,rag_docs)\n",
        "    config = genai.GenerationConfig(\n",
        "        candidate_count = 1,\n",
        "        stop_sequences = None,\n",
        "        max_output_tokens = max_tokens,\n",
        "        temperature = temperature,\n",
        "        top_p = 1.0,\n",
        "        top_k = 1\n",
        "        )\n",
        "    model = genai.GenerativeModel(\n",
        "        model_name = model,\n",
        "        generation_config = config)\n",
        "\n",
        "    return model.generate_content(prompt)"
      ],
      "metadata": {
        "id": "cyjyVa5YRxqp"
      },
      "execution_count": null,
      "outputs": []
    },
    {
      "cell_type": "markdown",
      "source": [
        "Now, test out the rag pipeline with a few different questions/answers. I've configured the function to take a query argument and top_k. The remainder will autofill with reasonable defaults. The function also returns the entire answer object in case you want to poke at it further.\n",
        "\n",
        "Try modifying top_k to see when answers get better, or worse. The function above doesn't have any guardrails around context length, so even though Gemini Pro has a ~30,000 input token limit (about 50 docs if you used my recommended chunk size of 600), at some point, the calls will error out due to context length limits. You will probably see that answer quality stops improving long before then."
      ],
      "metadata": {
        "id": "Wy7PVOD3YgaX"
      }
    },
    {
      "cell_type": "code",
      "source": [
        "my_question = \"From the analysis of Campbell v. Acuff Music, how did the opinion distinguish parody from satire?\""
      ],
      "metadata": {
        "id": "s29mG7NWWPva"
      },
      "execution_count": null,
      "outputs": []
    },
    {
      "cell_type": "code",
      "source": [
        "the_answer = gemini_rag_answer(my_question, 2)\n",
        "Markdown(the_answer.text)"
      ],
      "metadata": {
        "colab": {
          "base_uri": "https://localhost:8080/",
          "height": 104
        },
        "id": "M33RZS1rWftY",
        "outputId": "7e694cef-16f4-4ec5-b41d-92de5f48687b"
      },
      "execution_count": null,
      "outputs": [
        {
          "output_type": "execute_result",
          "data": {
            "text/plain": [
              "<IPython.core.display.Markdown object>"
            ],
            "text/markdown": "How did the opinion in Campbell v. Acuff Music distinguish parody from satire?\n\nThe Campbell v. Acuff Music opinion distinguished parody from satire by explaining that parody requires mimicking an original work to make its point and thus has some claim to use the creation of its victim's imagination. In contrast, satire can stand on its own and requires justification for borrowing. (Source: Campbell v. Acuff-Rose Music, Inc., 510 U.S. 569 (1994))"
          },
          "metadata": {},
          "execution_count": 47
        }
      ]
    },
    {
      "cell_type": "markdown",
      "source": [
        "## We can go further! Semantic Retrieval and Attributed Question Answering!\n",
        "\n",
        "Google released this with Gemini, too! Details are sparse on Semantic Retriever, and it doesn't appear that the API documentation is yet available (at the time of this writing). It appears to be a hybrid Embeddings+Retrieval platform that work together to produce \"Attributed Question Answering\".\n",
        "\n",
        "My understanding is something like this (I might be wrong): You can set up several document stores consisting of 10,000 documents each, with 20 fields of custom metadata. They are presumably vectorized and indexed. Then, you can send a Query, and get grounding passages returned. The grounding passages are given to a specialized LLM API endpoint called `aqa`, which returns a special response object that contains:\n",
        "- A generated answer\n",
        "- The most relevant document\n",
        "- An `answerable_probability` value corresponding to the estimated confidence that the passage actually answers the question.\n",
        "\n",
        "I am not setting up a doc store here today, but Semantic Query and Attributed Question Answering can also be used with \"inline passages\", which are a sequence of docs being sent to the API for evaluation. The model will similarly produce an answer based on the most relevant doc, and return it, as well as the confidence score."
      ],
      "metadata": {
        "id": "jIpQaG9wY_L7"
      }
    },
    {
      "cell_type": "code",
      "source": [
        "#reuses our Pandas dataframe to construct \"inline grounding passages\" for the AQA model\n",
        "def get_inline_passages(query, dataframe, top_k=1):\n",
        "    \"\"\"\n",
        "    Compute the dot product similarities between the query and each document in the dataframe,\n",
        "    and return the top_k best matches with original DataFrame indices.\n",
        "    \"\"\"\n",
        "    top_k_original_indices = retrieve_docs(query, dataframe, top_k)\n",
        "\n",
        "    grounding_passages = glm.GroundingPassages()\n",
        "    for idx in top_k_original_indices:\n",
        "      passage_bit = glm.Content(parts=[glm.Part(text=dataframe.loc[idx, 'Docs'])])\n",
        "      id_bit = dataframe.loc[idx, 'aqa_id']\n",
        "      grounding_passages.passages.append(glm.GroundingPassage(content=passage_bit, id=id_bit))\n",
        "\n",
        "    return grounding_passages\n",
        "\n",
        "def aqa_model_call(query, inline_passages):\n",
        "  query_content = glm.Content(parts=[glm.Part(text=query)])\n",
        "  req = glm.GenerateAnswerRequest(model='models/aqa',\n",
        "                                  contents=[query_content],\n",
        "                                  inline_passages=inline_passages,\n",
        "                                  #answer_styles to try are 'ABSTRACTIVE', 'VERBOSE', 'EXTRACTIVE'\n",
        "                                  answer_style='VERBOSE')\n",
        "  aqa_response = generative_service_client.generate_answer(req)\n",
        "  return aqa_response\n",
        "\n",
        "def aqa_query(query, dataframe, top_k=3):\n",
        "  grounding_passages = get_inline_passages(query, dataframe, top_k)\n",
        "  get_answer = aqa_model_call(query, grounding_passages)\n",
        "  return get_answer"
      ],
      "metadata": {
        "id": "46k3v_AHqYG8"
      },
      "execution_count": null,
      "outputs": []
    },
    {
      "cell_type": "markdown",
      "source": [
        "The AQA Model is included in the Gemini family, but it's a special purpose model that's not intended for text generation, or chat. More significantly for us is that it has an input token limit of around 7000, meaning that the maximum top_k value before you are exceeding the token limit should be around 11."
      ],
      "metadata": {
        "id": "3VV5YfmY6yvC"
      }
    },
    {
      "cell_type": "code",
      "source": [
        "first_query = \"Who is Andy Warhol and what is he famous for?\"\n",
        "second_query = \"Why did the court discuss Campbell's Soup cans?\"\n",
        "third_query = \"Did the court answer whether or not trademark fair use factored into the court's conclusion?\""
      ],
      "metadata": {
        "id": "ThqdbIpupRB1"
      },
      "execution_count": null,
      "outputs": []
    },
    {
      "cell_type": "code",
      "source": [
        "first_aqa_answer = aqa_query(first_query, df, 6)\n",
        "first_aqa_answer"
      ],
      "metadata": {
        "colab": {
          "base_uri": "https://localhost:8080/",
          "height": 1000
        },
        "id": "RRH4lf_q3JtC",
        "outputId": "df5bb3b3-3c4c-4811-851d-1c92f053fc9e"
      },
      "execution_count": null,
      "outputs": [
        {
          "output_type": "execute_result",
          "data": {
            "text/plain": [
              "answer {\n",
              "  content {\n",
              "    parts {\n",
              "      text: \"Andy Warhol was a famous American artist who is known for his work in pop art. He used silkscreens to create his paintings, which often depicted celebrities and everyday objects. Warhol was also a pioneer in the use of appropriation, which is the act of taking an existing image and using it as the basis for a new work of art. Some of Warhol\\'s most famous works include the Campbell\\'s Soup Cans series, the Marilyn Monroe series, and the Elvis Presley series.\"\n",
              "    }\n",
              "  }\n",
              "  finish_reason: STOP\n",
              "  grounding_attributions {\n",
              "    content {\n",
              "      parts {\n",
              "        text: \"3\\n\\n4\\n\\nANDY WARHOL FOUNDATION FOR VISUAL ARTS, INC. v. GOLDSMITH KAGAN, J., dissenting\\n\\nundermines creative freedom. I respectfully dissent.2\\n\\nI A\\n\\nAndy Warhol is the avatar of transformative copying. Cf. Google, 593 U. S., at ___\\342\\200\\223___ (slip op., at 24\\342\\200\\22325) (selecting Warhol, from the universe of creators, to illustrate what transformative copying is). In his early career, Warhol worked as a commercial illustrator and became experienced in varied techniques of reproduction. By night, he used those techniques\\342\\200\\224in particular, the silkscreen\\342\\200\\224to create his own art. His own\\342\\200\\224even though in one sense not. The silkscreen enabled him to make brilliantly novel art out of existing \\342\\200\\234images carefully selected from popular culture.\\342\\200\\235 D. De Salvo, God Is in the Details, in Andy Warhol Prints 22 (4th rev. ed. 2003). The works he produced, connecting traditions of fine art with mass culture, depended on \\342\\200\\234ap- propriation[s]\\342\\200\\235: The use of \\342\\200\\234elements of an extant image[ ] is Warhol\\342\\200\\231s entire modus operandi.\\342\\200\\235 B. Gopnik, Artistic Ap- propriation vs. Copyright Law, N. Y. Times, Apr. 6, 2021, p. C4 (internal quotation marks omitted). And with that m.o., he changed modern art; his appropriations and his originality were flipsides of each other. To a public accus- tomed to thinking of art as formal works \\342\\200\\234belong[ing] in\\n\\n\\342\\200\\224\\342\\200\\224\\342\\200\\224\\342\\200\\224\\342\\200\\224\\342\\200\\224\\n\\n2 One preliminary note before beginning in earnest. As readers are by now aware, the majority opinion is trained on this dissent in a way ma- jority opinions seldom are. Maybe that makes the majority opinion self- refuting? After all, a dissent with \\342\\200\\234no theory\\342\\200\\235 and \\342\\200\\234[n]o reason\\342\\200\\235 is not one usually thought to merit pages of commentary and fistfuls of come- back footnotes. Ante, at 36. In any event, I\\342\\200\\231ll not attempt to rebut point for point the majority\\342\\200\\231s varied accusations; instead, I\\342\\200\\231ll mainly rest on my original submission. I\\342\\200\\231ll just make two suggestions about reading what follows. First, when you see that my description of a precedent differs from the majority\\342\\200\\231s, go take a look at the decision. Second, when you come across an argument that you recall the majority took issue with, go back to its response and ask yourself about the ratio of reasoning to ipse dixit. With those two recommendations, I\\342\\200\\231ll take my chances on readers\\342\\200\\231 good judgment.\\n\\nCite as: 598 U. S. ____ (2023)\\n\\nKAGAN, J., dissenting\"\n",
              "      }\n",
              "    }\n",
              "    source_id {\n",
              "      grounding_passage {\n",
              "        passage_id: \"054\"\n",
              "      }\n",
              "    }\n",
              "  }\n",
              "  grounding_attributions {\n",
              "    content {\n",
              "      parts {\n",
              "        text: \"Cite as: 598 U. S. ____ (2023)\\n\\nKAGAN, J., dissenting\\n\\ngold frames\\342\\200\\235\\342\\200\\224disconnected from the everyday world of products and personalities\\342\\200\\224Warhol\\342\\200\\231s paintings landed like a thunderclap. A. Danto, Andy Warhol 36 (2009). Think Soup Cans or, in another vein, think Elvis. Warhol had cre- ated \\342\\200\\234something very new\\342\\200\\235\\342\\200\\224\\342\\200\\234shockingly important, trans- formative art.\\342\\200\\235 B. Gopnik, Warhol 138 (2020); Gopnik, Ar- tistic Appropriation.\\n\\nTo see the method in action, consider one of Warhol\\342\\200\\231s pre- Prince celebrity silkscreens\\342\\200\\224this one, of Marilyn Monroe. He began with a publicity photograph of the actress. And then he went to work. He reframed the image, zooming in on Monroe\\342\\200\\231s face to \\342\\200\\234produc[e] the disembodied effect of a cinematic close-up.\\342\\200\\235 1 App. 161 (expert declaration).\\n\\nAt that point, he produced a high-contrast, flattened image on a sheet of clear acetate. He used that image to trace an outline on the canvas. And he painted on top\\342\\200\\224applying ex- otic colors with \\342\\200\\234a flat, even consistency and an industrial appearance.\\342\\200\\235 Id., at 165. The same high-contrast image was then reproduced in negative on a silkscreen, designed\\n\\n5\\n\\n6\\n\\nANDY WARHOL FOUNDATION FOR VISUAL ARTS, INC. v. GOLDSMITH KAGAN, J., dissenting\\n\\nto function as a selectively porous mesh. Warhol would \\342\\200\\234place the screen face down on the canvas, pour ink onto the back of the mesh, and use a squeegee to pull the ink through the weave and onto the canvas.\\342\\200\\235 Id., at 164. On some of his Marilyns (there are many), he reordered the process\\342\\200\\224first ink, then color, then (perhaps) ink again. See id., at 165\\342\\200\\223 166. The result\\342\\200\\224see for yourself\\342\\200\\224is miles away from a lit- eral copy of the publicity photo.\\n\\nAndy Warhol, Marilyn, 1964, acrylic and silkscreen ink on linen\\n\\nAnd the meaning is different from any the photo had. Of course, meaning in great art is contestable and contested (as is the premise that an artwork is great). But note what some experts say about the complex message(s) Warhol\\342\\200\\231s Marilyns convey. On one level, those vivid, larger-than-life paintings are celebrity iconography, making a \\342\\200\\234secular, pro- fane subject[ ]\\342\\200\\235 \\342\\200\\234transcendent\\342\\200\\235 and \\342\\200\\234eternal.\\342\\200\\235 Id., at 209 (in- ternal quotation marks omitted). But they also function as a biting critique of the cult of celebrity, and the role it plays\"\n",
              "      }\n",
              "    }\n",
              "    source_id {\n",
              "      grounding_passage {\n",
              "        passage_id: \"055\"\n",
              "      }\n",
              "    }\n",
              "  }\n",
              "  grounding_attributions {\n",
              "    content {\n",
              "      parts {\n",
              "        text: \"Cite as: 598 U. S. ____ (2023)\\n\\nKAGAN, J., dissenting\\n\\nin American life. With misaligned, \\342\\200\\234Day-Glo\\342\\200\\235 colors sug- gesting \\342\\200\\234artificiality and industrial production,\\342\\200\\235 Warhol portrayed the actress as a \\342\\200\\234consumer product.\\342\\200\\235 The Metro- politan Museum of Art Guide 233 (2012); The Metropolitan Museum of Art, Marilyn (2023) (online source archived at https://www.supremecourt.gov). And in so doing, he \\342\\200\\234ex- posed the deficiencies\\342\\200\\235 of a \\342\\200\\234mass-media culture\\342\\200\\235 in which \\342\\200\\234such superficial icons loom so large.\\342\\200\\235 1 App. 208, 210 (in- ternal quotation marks omitted). Out of a publicity photo came both memorable portraiture and pointed social com- mentary.\\n\\nAs with Marilyn, similarly with Prince. In 1984, Vanity Fair commissioned Warhol to create a portrait based on a black-and-white photograph taken by noted photographer Lynn Goldsmith:\\n\\nAs he did in the Marilyn series, Warhol cropped the photo, so that Prince\\342\\200\\231s head fills the whole frame: It thus becomes \\342\\200\\234disembodied,\\342\\200\\235 as if \\342\\200\\234magically suspended in space.\\342\\200\\235 Id., at\\n\\n7\\n\\n8\\n\\nANDY WARHOL FOUNDATION FOR VISUAL ARTS, INC. v. GOLDSMITH KAGAN, J., dissenting\\n\\n174. And as before, Warhol converted the cropped photo into a higher-contrast image, incorporated into a silkscreen. That image isolated and exaggerated the darkest details of Prince\\342\\200\\231s head; it also reduced his \\342\\200\\234natural, angled position,\\342\\200\\235 presenting him in a more face-forward way. Id., at 223. Warhol traced, painted, and inked, as earlier described. See supra, at 5\\342\\200\\2236. He also made a second silkscreen, based on his tracings; the ink he passed through that screen left differently colored, out-of-kilter lines around Prince\\342\\200\\231s face and hair (a bit hard to see in the reproduction below\\342\\200\\224more pronounced in the original). Altogether, Warhol made 14 prints and two drawings\\342\\200\\224the Prince series\\342\\200\\224in a range of unnatural, lurid hues. See Appendix, ante, at 39. Vanity Fair chose the Purple Prince to accompany an article on the musician. Thirty-two years later, just after Prince died, Cond\\303\\251 Nast paid Warhol (now actually his foundation, see supra, at 1, n. 1) to use the Orange Prince on the cover of a special commemorative magazine. A picture (or two), as the saying goes, is worth a thousand words, so here is what those magazines published:\\n\\nAndy Warhol, Prince, 1984, synthetic paint and silkscreen ink on canvas\\n\\nCite as: 598 U. S. ____ (2023)\\n\\nKAGAN, J., dissenting\"\n",
              "      }\n",
              "    }\n",
              "    source_id {\n",
              "      grounding_passage {\n",
              "        passage_id: \"056\"\n",
              "      }\n",
              "    }\n",
              "  }\n",
              "}\n",
              "answerable_probability: 1.0"
            ]
          },
          "metadata": {},
          "execution_count": 64
        }
      ]
    },
    {
      "cell_type": "code",
      "source": [
        "#parameters are (query, dataframe, top_k)\n",
        "second_aqa_answer = aqa_query(second_query, df, 5)\n",
        "second_aqa_answer"
      ],
      "metadata": {
        "colab": {
          "base_uri": "https://localhost:8080/",
          "height": 1000
        },
        "id": "hkS-SKsX4yXx",
        "outputId": "4d962f45-564e-4c29-a00d-704f1b6415eb"
      },
      "execution_count": null,
      "outputs": [
        {
          "output_type": "execute_result",
          "data": {
            "text/plain": [
              "answer {\n",
              "  content {\n",
              "    parts {\n",
              "      text: \"The court discussed Campbell\\342\\200\\231s Soup Cans to illustrate the difference between transformative and non-transformative uses. Campbell\\342\\200\\231s use of the Campbell\\342\\200\\231s Soup can was transformative because it used the image of the soup can to create a new work of art that commented on consumerism. In contrast, the Warhol Foundation\\342\\200\\231s use of Goldsmith\\342\\200\\231s photograph of Prince was not transformative because it did not create a new work of art. The Warhol Foundation simply copied Goldsmith\\342\\200\\231s photograph and added some new colors and shapes.\"\n",
              "    }\n",
              "  }\n",
              "  finish_reason: STOP\n",
              "  grounding_attributions {\n",
              "    content {\n",
              "      parts {\n",
              "        text: \"The Court\\342\\200\\231s decision in Campbell is instructive. In holding that par- ody may be fair use, the Court explained that \\342\\200\\234parody has an obvious claim to transformative value\\342\\200\\235 because \\342\\200\\234it can provide social benefit, by shedding light on an earlier work, and, in the process, creating a new one.\\342\\200\\235 510 U. S., at 579. The use at issue was 2 Live Crew\\342\\200\\231s copy- ing of Roy Orbison\\342\\200\\231s song, \\342\\200\\234Oh, Pretty Woman,\\342\\200\\235 to create a rap deriva- tive, \\342\\200\\234Pretty Woman.\\342\\200\\235 2 Live Crew transformed Orbison\\342\\200\\231s song by add- ing new lyrics and musical elements, such that \\342\\200\\234Pretty Woman\\342\\200\\235 had a different message and aesthetic than \\342\\200\\234Oh, Pretty Woman.\\342\\200\\235 But that did not end the Court\\342\\200\\231s analysis of the first fair use factor. The Court found it necessary to determine whether 2 Live Crew\\342\\200\\231s transformation rose to the level of parody, a distinct purpose of commenting on the original or criticizing it. Further distinguishing between parody and satire, the Court explained that \\342\\200\\234[p]arody needs to mimic an original to make its point, and so has some claim to use the creation of its vic- tim\\342\\200\\231s (or collective victims\\342\\200\\231) imagination, whereas satire can stand on its own two feet and so requires justification for the very act of borrow- ing.\\342\\200\\235 Id., at 580\\342\\200\\223581. More generally, when \\342\\200\\234commentary has no crit- ical bearing on the substance or style of the original composition, . . . the claim to fairness in borrowing from another\\342\\200\\231s work diminishes ac- cordingly (if it does not vanish), and other factors, like the extent of its commerciality, loom larger.\\342\\200\\235 Id., at 580.\\n\\nCampbell illustrates two important points. First, the fact that a use is commercial as opposed to nonprofit is an additional element of the first fair use factor. The commercial nature of a use is relevant, but not dispositive. It is to be weighed against the degree to which the use\\n\\n3\\n\\n4\\n\\nANDY WARHOL FOUNDATION FOR VISUAL ARTS, INC. v. GOLDSMITH Syllabus\"\n",
              "      }\n",
              "    }\n",
              "    source_id {\n",
              "      grounding_passage {\n",
              "        passage_id: \"005\"\n",
              "      }\n",
              "    }\n",
              "  }\n",
              "  grounding_attributions {\n",
              "    content {\n",
              "      parts {\n",
              "        text: \"25\\n\\n26 ANDY WARHOL FOUNDATION FOR VISUAL ARTS, INC.\\n\\nv. GOLDSMITH Opinion of the Court\\n\\nuses. In Google, the Court suggested that \\342\\200\\234[a]n \\342\\200\\230artistic painting\\342\\200\\231 might, for example, fall within the scope of fair use even though it precisely replicates a copyrighted \\342\\200\\230adver- tising logo to make a comment about consumerism.\\342\\200\\231 \\342\\200\\235 593 U. S., at ___\\342\\200\\223___ (slip op., at 24\\342\\200\\22325) (quoting 4 M. Nimmer & D. Nimmer, Copyright \\302\\24713.05[A][1][b] (2019), in turn quoting N. Netanel, Making Sense of Fair Use, 15 Lewis & Clark L. Rev. 715, 746 (2011) (some internal quotation marks omitted)). That suggestion refers to Warhol\\342\\200\\231s works that incorporate advertising logos, such as the Campbell\\342\\200\\231s Soup Cans series. See fig. 7, infra.\\n\\nYet not all of Warhol\\342\\200\\231s works, nor all uses of them, give rise to the same fair use analysis. In fact, Soup Cans well illustrates the distinction drawn here. The purpose of Campbell\\342\\200\\231s logo is to advertise soup. Warhol\\342\\200\\231s canvases do\\n\\nFigure 7. A print based on the Campbell\\342\\200\\231s soup can, one of Warhol\\342\\200\\231s works that replicates a copyrighted advertising logo.\\n\\nCite as: 598 U. S. ____ (2023)\\n\\nOpinion of the Court\\n\\nnot share that purpose. Rather, the Soup Cans series uses Campbell\\342\\200\\231s copyrighted work for an artistic commentary on consumerism, a purpose that is orthogonal to advertising soup. The use therefore does not supersede the objects of the advertising logo.15\\n\\nMoreover, a further justification for Warhol\\342\\200\\231s use of Campbell\\342\\200\\231s logo is apparent. His Soup Cans series targets the logo. That is, the original copyrighted work is, at least in part, the object of Warhol\\342\\200\\231s commentary. It is the very nature of Campbell\\342\\200\\231s copyrighted logo\\342\\200\\224well known to the public, designed to be reproduced, and a symbol of an every- day item for mass consumption\\342\\200\\224that enables the commen- tary. Hence, the use of the copyrighted work not only serves a completely different purpose, to comment on consumer- ism rather than to advertise soup, it also \\342\\200\\234conjures up\\342\\200\\235 the original work to \\342\\200\\234she[d] light\\342\\200\\235 on the work itself, not just the subject of the work. Campbell, 510 U. S., at 579, 588.16 Here, by contrast, AWF\\342\\200\\231s use of Goldsmith\\342\\200\\231s photograph does not target the photograph, nor has AWF offered an- other compelling justification for the use. See infra, at 34\\342\\200\\223 35, and nn. 20\\342\\200\\22321.\\n\\n\\342\\200\\224\\342\\200\\224\\342\\200\\224\\342\\200\\224\\342\\200\\224\\342\\200\\224\"\n",
              "      }\n",
              "    }\n",
              "    source_id {\n",
              "      grounding_passage {\n",
              "        passage_id: \"031\"\n",
              "      }\n",
              "    }\n",
              "  }\n",
              "  grounding_attributions {\n",
              "    content {\n",
              "      parts {\n",
              "        text: \"\\342\\200\\224\\342\\200\\224\\342\\200\\224\\342\\200\\224\\342\\200\\224\\342\\200\\224\\n\\n15 The situation might be different if AWF licensed Warhol\\342\\200\\231s Soup Cans to a soup business to serve as its logo. That use would share much the same purpose of Campbell\\342\\200\\231s logo, even though Soup Cans has some new meaning or message. This hypothetical, though fanciful, is parallel to the situation here: Both Goldsmith and AWF sold images of Prince (AWF\\342\\200\\231s copying Goldsmith\\342\\200\\231s) to magazines to illustrate stories about the celebrity, which is the typical use made of Goldsmith\\342\\200\\231s photographs.\\n\\n16 The dissent either does not follow, or chooses to ignore, this analysis. The point is not simply that the Soup Cans series comments on consumer culture, similar to how Warhol\\342\\200\\231s celebrity images comment on celebrity culture. Post, at 15 (opinion of KAGAN, J.). Rather, as the discussion makes clear, the degree of difference in purpose and character between Campbell\\342\\200\\231s soup label and Warhol\\342\\200\\231s painting is nearly absolute. Plus, Warhol\\342\\200\\231s use targets Campbell\\342\\200\\231s logo, at least in part. These features (which are absent in this case) strengthen Warhol\\342\\200\\231s claim to fairness in copying that logo in a painting.\\n\\n27\\n\\n28 ANDY WARHOL FOUNDATION FOR VISUAL ARTS, INC.\\n\\nv. GOLDSMITH Opinion of the Court\\n\\nB\\n\\nAWF contends, however, that the purpose and character of its use of Goldsmith\\342\\200\\231s photograph weighs in favor of fair use because Warhol\\342\\200\\231s silkscreen image of the photograph, like the Campbell\\342\\200\\231s Soup Cans series, has a new meaning or message. The District Court, for example, understood the Prince Series works to portray Prince as \\342\\200\\234an iconic, larger-than-life figure.\\342\\200\\235 382 F. Supp. 3d, at 326. AWF also asserts that the works are a comment on celebrity. In par- ticular, \\342\\200\\234Warhol\\342\\200\\231s Prince Series conveys the dehumanizing nature of celebrity.\\342\\200\\235 Brief for Petitioner 44. According to AWF, that new meaning or message, which the Court of Ap- peals ignored, makes the use \\342\\200\\234transformative\\342\\200\\235 in the fair use sense. See id., at 44\\342\\200\\22348. We disagree.\\n\\n1\"\n",
              "      }\n",
              "    }\n",
              "    source_id {\n",
              "      grounding_passage {\n",
              "        passage_id: \"032\"\n",
              "      }\n",
              "    }\n",
              "  }\n",
              "}\n",
              "answerable_probability: 1.0"
            ]
          },
          "metadata": {},
          "execution_count": 66
        }
      ]
    },
    {
      "cell_type": "code",
      "source": [
        "third_answer = aqa_query(third_query, df, 4)\n",
        "third_answer"
      ],
      "metadata": {
        "colab": {
          "base_uri": "https://localhost:8080/",
          "height": 1000
        },
        "id": "WaWNFqva7f04",
        "outputId": "ae75206b-b36e-4c7b-efa9-d56fe344cb63"
      },
      "execution_count": null,
      "outputs": [
        {
          "output_type": "execute_result",
          "data": {
            "text/plain": [
              "answer {\n",
              "  content {\n",
              "    parts {\n",
              "      text: \"**No, the court did not specifically address trademark fair use in its opinion.** However, the court did discuss the concept of fair use in general, and its decision in this case appears to be consistent with the principles of trademark fair use.\\n\\nUnder trademark law, fair use allows for the use of trademarks in certain circumstances, such as for parody, criticism, or news reporting. In order for a use to be considered fair, it must be transformative, meaning that it must add something new to the original work and not simply be a copy of it. The use must also be non-commercial or only minimally commercial.\\n\\nIn the case of Andy Warhol Foundation for the Visual Arts, Inc. v. Goldsmith, the court found that the Andy Warhol Foundation\\'s use of Goldsmith\\'s photograph was not fair use. The court reasoned that the Foundation\\'s use of the photograph was commercial and that it did not add anything new to the original work.\"\n",
              "    }\n",
              "  }\n",
              "  finish_reason: STOP\n",
              "  grounding_attributions {\n",
              "    content {\n",
              "      parts {\n",
              "        text: \"The Court\\342\\200\\231s decision in Campbell is instructive. In holding that par- ody may be fair use, the Court explained that \\342\\200\\234parody has an obvious claim to transformative value\\342\\200\\235 because \\342\\200\\234it can provide social benefit, by shedding light on an earlier work, and, in the process, creating a new one.\\342\\200\\235 510 U. S., at 579. The use at issue was 2 Live Crew\\342\\200\\231s copy- ing of Roy Orbison\\342\\200\\231s song, \\342\\200\\234Oh, Pretty Woman,\\342\\200\\235 to create a rap deriva- tive, \\342\\200\\234Pretty Woman.\\342\\200\\235 2 Live Crew transformed Orbison\\342\\200\\231s song by add- ing new lyrics and musical elements, such that \\342\\200\\234Pretty Woman\\342\\200\\235 had a different message and aesthetic than \\342\\200\\234Oh, Pretty Woman.\\342\\200\\235 But that did not end the Court\\342\\200\\231s analysis of the first fair use factor. The Court found it necessary to determine whether 2 Live Crew\\342\\200\\231s transformation rose to the level of parody, a distinct purpose of commenting on the original or criticizing it. Further distinguishing between parody and satire, the Court explained that \\342\\200\\234[p]arody needs to mimic an original to make its point, and so has some claim to use the creation of its vic- tim\\342\\200\\231s (or collective victims\\342\\200\\231) imagination, whereas satire can stand on its own two feet and so requires justification for the very act of borrow- ing.\\342\\200\\235 Id., at 580\\342\\200\\223581. More generally, when \\342\\200\\234commentary has no crit- ical bearing on the substance or style of the original composition, . . . the claim to fairness in borrowing from another\\342\\200\\231s work diminishes ac- cordingly (if it does not vanish), and other factors, like the extent of its commerciality, loom larger.\\342\\200\\235 Id., at 580.\\n\\nCampbell illustrates two important points. First, the fact that a use is commercial as opposed to nonprofit is an additional element of the first fair use factor. The commercial nature of a use is relevant, but not dispositive. It is to be weighed against the degree to which the use\\n\\n3\\n\\n4\\n\\nANDY WARHOL FOUNDATION FOR VISUAL ARTS, INC. v. GOLDSMITH Syllabus\"\n",
              "      }\n",
              "    }\n",
              "    source_id {\n",
              "      grounding_passage {\n",
              "        passage_id: \"005\"\n",
              "      }\n",
              "    }\n",
              "  }\n",
              "  grounding_attributions {\n",
              "    content {\n",
              "      parts {\n",
              "        text: \"21 The dissent wonders: Why does targeting matter? See post, at 24 (opinion of KAGAN, J.). The reason, as this opinion explains, is the first factor\\342\\200\\231s attention to justification. Supra, at 17\\342\\200\\22320, and nn. 7\\342\\200\\2238, 29\\342\\200\\22330, and n. 18 (citing Campbell, 510 U. S., at 580\\342\\200\\223581; Google, 593 U. S., at ___ (slip op., at 26)). Compare, for example, a film adaptation of Gone With the Wind with a novel, The Wind Done Gone, that \\342\\200\\234inverts\\342\\200\\235 the original\\342\\200\\231s \\342\\200\\234portrait of race relations\\342\\200\\235 to expose its \\342\\200\\234romantic, idealized\\342\\200\\235 portrayal of the antebellum South. SunTrust Bank v. Houghton Mifflin Co., 268 F. 3d 1257, 1270 (CA11 2001); id., at 1280 (Marcus, J., specially concurring). Or, to build from one of the artistic works the dissent chooses to feature, consider a secondary use that borrows from Manet\\342\\200\\231s Olympia to shed light on the original\\342\\200\\231s depiction of race and sex. See R. Storr & C. Armstrong, Lunch With Olympia (2016). Although targeting is not always required, fair use is an affirmative defense, and AWF bears the burden to justify its taking of Goldsmith\\342\\200\\231s work with some reason other than, \\342\\200\\234I can make it better.\\342\\200\\235\\n\\nCite as: 598 U. S. ____ (2023)\\n\\nOpinion of the Court\\n\\nHere, the circumstances of AWF\\342\\200\\231s 2016 licensing out- weigh its diminished claim to fairness in copying under the first factor. Like satire that does not target an original work, AWF\\342\\200\\231s asserted commentary \\342\\200\\234can stand on its own two feet and so requires justification for the very act of bor- rowing.\\342\\200\\235 Id., at 581. Moreover, because AWF\\342\\200\\231s commercial use of Goldsmith\\342\\200\\231s photograph to illustrate a magazine about Prince is so similar to the photograph\\342\\200\\231s typical use, a particularly compelling justification is needed. Yet AWF offers no independent justification, let alone a compelling one, for copying the photograph, other than to convey a new meaning or message. As explained, that alone is not enough for the first factor to favor fair use.\"\n",
              "      }\n",
              "    }\n",
              "    source_id {\n",
              "      grounding_passage {\n",
              "        passage_id: \"040\"\n",
              "      }\n",
              "    }\n",
              "  }\n",
              "}\n",
              "answerable_probability: 0.4072054326534271"
            ]
          },
          "metadata": {},
          "execution_count": 68
        }
      ]
    }
  ]
}